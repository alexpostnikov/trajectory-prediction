{
 "cells": [
  {
   "cell_type": "code",
   "execution_count": 1,
   "metadata": {},
   "outputs": [],
   "source": [
    "import torch\n",
    "import torch.nn as nn\n",
    "import torch.nn.functional as F\n",
    "import torch.optim as optim\n",
    "import numpy as np\n",
    "from dataloader import Dataset_from_pkl, is_filled\n",
    "from model import LSTMTagger, LSTM_hid, LSTM_simple, OneLayer, LSTM_single, LSTM_single_with_emb\n",
    "torch.manual_seed(1)\n",
    "from tqdm import tqdm\n",
    "from utils import compare_prediction_gt\n"
   ]
  },
  {
   "cell_type": "markdown",
   "metadata": {},
   "source": [
    "## training on poses\n",
    "1.37 lstm_tag \n",
    "<br>\n",
    "1.19 lstm_hid\n",
    "<br>\n",
    "2.01   lstm_simple\n",
    "<br>\n",
    "2.1   OneLayer\n",
    "<br>\n",
    "1.8 lstm_single \n"
   ]
  },
  {
   "cell_type": "code",
   "execution_count": 72,
   "metadata": {},
   "outputs": [],
   "source": [
    "\n",
    "def get_observation_other_gt_poses(local_batch, poses=True):\n",
    "    \"\"\"\n",
    "    for each agent in scene generate obseravtion, other_pose, future_poses\n",
    "    observations -> list[tensors of shape [1,1,20,2]]]\n",
    "    others -> list[tensors of shape [1,num_others,20,2]]]\n",
    "    future_poses -> list[tensors of shape [1,1,12,2]]]\n",
    "    \"\"\"\n",
    "\n",
    "    obseravtions = []\n",
    "    gts = []\n",
    "    others = []\n",
    "    \n",
    "    for ped in range(local_batch.shape[1]):\n",
    "        observed_pose = local_batch[:, ped, :,2:4]\n",
    "        obseravtions.append(observed_pose)\n",
    "        gt_future = local_batch[:, ped:ped+1, 8:, 2:4]\n",
    "        gts.append(gt_future)\n",
    "        others_poses = torch.cat((local_batch[:, 0:ped, :, 2:4], local_batch[:, ped+1:, :,2:4]),dim=1)\n",
    "        others.append(others_poses)\n",
    "\n",
    "    return obseravtions, gts, others\n",
    "\n"
   ]
  },
  {
   "cell_type": "code",
   "execution_count": 26,
   "metadata": {},
   "outputs": [],
   "source": [
    "%matplotlib inline\n",
    "import matplotlib.pyplot as plt\n",
    "import numpy as np\n",
    "\n",
    "\n",
    "def plot_traj(data, ax=None,color=\"red\"):\n",
    "    \n",
    "    #data shape [n, 2]\n",
    "    x_poses = np.zeros((data.shape[0], data.shape[1]))\n",
    "    y_poses = np.zeros((data.shape[0], data.shape[1]))\n",
    "    for person in range(data.shape[0]):\n",
    "        x_poses[person]  = data[person, :, 0].numpy()\n",
    "        y_poses[person]  = data[person, :, 1].numpy()\n",
    "    \n",
    "    for person in range(data.shape[0]):\n",
    "        if ax is not None:\n",
    "            ax.plot(x_poses[person], y_poses[person], 'o-', color=color)\n",
    "        else:\n",
    "            plt.plot(x_poses[person], y_poses[person], 'o-', color=color)\n",
    "            plt.show()"
   ]
  },
  {
   "cell_type": "code",
   "execution_count": 2,
   "metadata": {},
   "outputs": [
    {
     "name": "stdout",
     "output_type": "stream",
     "text": [
      "loading eth_train.pkl\n",
      "cuda\n"
     ]
    }
   ],
   "source": [
    "training_set = Dataset_from_pkl(\"/home/robot/repos/trajectories_pred/processed/\", data_files=[\"eth_train.pkl\"])\n",
    "training_generator = torch.utils.data.DataLoader(training_set, batch_size=1)\n",
    "\n",
    "device = torch.device(\"cuda\") if torch.cuda.is_available() else torch.device(\"cpu\")\n",
    "print (device)\n",
    "model  = LSTM_hid(10, 2, 2).to(device)\n",
    "# model  = LSTM_simple(10, 2, 2).to(device)\n",
    "# model  = OneLayer().to(device)\n",
    "\n",
    "optimizer = optim.Adam(model.parameters(), lr=0.01)\n",
    "drop_every_epochs = 5\n",
    "drop_rate = 0.4\n",
    "scheduler = torch.optim.lr_scheduler.StepLR(optimizer, drop_every_epochs, drop_rate) # every drop_every_epochs epochs drop by drop_rate lr"
   ]
  },
  {
   "cell_type": "markdown",
   "metadata": {},
   "source": [
    "### training in separated manner"
   ]
  },
  {
   "cell_type": "code",
   "execution_count": 75,
   "metadata": {},
   "outputs": [
    {
     "name": "stdout",
     "output_type": "stream",
     "text": [
      "epoch 0 loss 2.9254, time taken 21.60\n",
      "epoch 1 loss 2.1336, time taken 21.45\n",
      "epoch 2 loss 2.0145, time taken 21.83\n",
      "epoch 3 loss 1.9000, time taken 21.44\n",
      "epoch 4 loss 1.8290, time taken 21.44\n",
      "epoch 5 loss 1.8950, time taken 21.49\n",
      "epoch 6 loss 1.7283, time taken 21.51\n",
      "epoch 7 loss 1.6438, time taken 21.30\n",
      "epoch 8 loss 1.5493, time taken 21.49\n",
      "epoch 9 loss 1.5060, time taken 21.53\n",
      "epoch 10 loss 1.5299, time taken 21.46\n",
      "epoch 11 loss 1.4339, time taken 21.45\n",
      "epoch 12 loss 1.4058, time taken 21.36\n",
      "epoch 13 loss 1.3981, time taken 21.45\n",
      "epoch 14 loss 1.3729, time taken 21.58\n",
      "epoch 15 loss 1.3940, time taken 21.43\n",
      "epoch 16 loss 1.3475, time taken 21.54\n",
      "epoch 17 loss 1.3333, time taken 21.46\n",
      "epoch 18 loss 1.3257, time taken 21.47\n",
      "epoch 19 loss 1.3169, time taken 21.51\n",
      "epoch 20 loss 1.3144, time taken 21.50\n",
      "epoch 21 loss 1.3063, time taken 21.40\n",
      "epoch 22 loss 1.2994, time taken 21.48\n",
      "epoch 23 loss 1.2954, time taken 21.55\n",
      "epoch 24 loss 1.2922, time taken 21.61\n",
      "epoch 25 loss 1.2895, time taken 21.61\n",
      "epoch 26 loss 1.2862, time taken 21.74\n",
      "epoch 27 loss 1.2834, time taken 21.68\n",
      "epoch 28 loss 1.2817, time taken 21.67\n",
      "epoch 29 loss 1.2803, time taken 21.43\n",
      "epoch 30 loss 1.2783, time taken 21.44\n",
      "epoch 31 loss 1.2771, time taken 21.42\n",
      "epoch 32 loss 1.2763, time taken 21.44\n",
      "epoch 33 loss 1.2757, time taken 21.71\n",
      "epoch 34 loss 1.2751, time taken 21.61\n",
      "epoch 35 loss 1.2741, time taken 21.46\n",
      "epoch 36 loss 1.2736, time taken 21.62\n",
      "epoch 37 loss 1.2734, time taken 21.46\n",
      "epoch 38 loss 1.2731, time taken 21.66\n",
      "epoch 39 loss 1.2728, time taken 21.70\n",
      "epoch 40 loss 1.2724, time taken 21.63\n",
      "epoch 41 loss 1.2723, time taken 21.60\n",
      "epoch 42 loss 1.2721, time taken 21.61\n",
      "epoch 43 loss 1.2720, time taken 21.67\n",
      "epoch 44 loss 1.2719, time taken 21.68\n",
      "epoch 45 loss 1.2717, time taken 21.73\n",
      "epoch 46 loss 1.2717, time taken 21.66\n",
      "epoch 47 loss 1.2716, time taken 21.61\n",
      "epoch 48 loss 1.2716, time taken 21.67\n",
      "epoch 49 loss 1.2716, time taken 21.70\n",
      "epoch 50 loss 1.2715, time taken 21.71\n",
      "epoch 51 loss 1.2715, time taken 21.64\n",
      "epoch 52 loss 1.2714, time taken 21.60\n",
      "epoch 53 loss 1.2714, time taken 21.66\n",
      "epoch 54 loss 1.2714, time taken 21.62\n",
      "epoch 55 loss 1.2714, time taken 21.60\n",
      "epoch 56 loss 1.2714, time taken 21.60\n",
      "epoch 57 loss 1.2714, time taken 21.68\n",
      "epoch 58 loss 1.2714, time taken 21.63\n",
      "epoch 59 loss 1.2714, time taken 21.63\n",
      "epoch 60 loss 1.2713, time taken 21.68\n"
     ]
    }
   ],
   "source": [
    "import time\n",
    "\n",
    "for epoch in range(0,61):\n",
    "    epoch_loss = 0\n",
    "    start = time.time()\n",
    "    for batch_id, local_batch in enumerate(training_generator):\n",
    "        if batch_id>100:\n",
    "            break\n",
    "        obseravtions, gts, others = get_observation_other_gt_poses(local_batch.to(device))\n",
    "        batch_loss = 0\n",
    "        for observation, gt, other in zip(obseravtions, gts, others):\n",
    "            model.zero_grad()\n",
    "            fil = is_filled(observation)\n",
    "            if fil:\n",
    "                predictions = torch.zeros(1, 1, 0, 2).requires_grad_(True).to(device)\n",
    "                for timestamp in range(0, 12):\n",
    "                    \n",
    "                    prediction = model(observation[:, 0+timestamp:8+timestamp, :], other[:, :, 0+timestamp:8+timestamp, :])\n",
    "                    predictions = torch.cat((predictions, prediction.unsqueeze(0)), dim=2)\n",
    "\n",
    "                loss = torch.sum(torch.norm(predictions - gt))\n",
    "                batch_loss += loss.item()\n",
    "                loss.backward()\n",
    "                optimizer.step()\n",
    "        if len(obseravtions) != 0:\n",
    "#             print(\"\\tid: {id}, batch_loss: {batch_loss:.2f}\".format(batch_loss=batch_loss/len(obseravtions), id=id))\n",
    "            epoch_loss += batch_loss/len(obseravtions)\n",
    "        \n",
    "    print (\"epoch {epoch} loss {el:0.4f}, time taken {t:0.2f}\".format(epoch=epoch, el=epoch_loss/batch_id,t=time.time()-start) )\n",
    "    scheduler.step()\n"
   ]
  },
  {
   "cell_type": "code",
   "execution_count": 108,
   "metadata": {},
   "outputs": [
    {
     "name": "stdout",
     "output_type": "stream",
     "text": [
      "torch.Size([1, 1, 12, 2])\n"
     ]
    },
    {
     "data": {
      "image/png": "[encoded data removed]",
      "text/plain": [
       "<Figure size 432x288 with 2 Axes>"
      ]
     },
     "metadata": {
      "needs_background": "light"
     },
     "output_type": "display_data"
    }
   ],
   "source": [
    "for batch_id, local_batch in enumerate(training_generator):\n",
    "    if batch_id != 180:\n",
    "        continue\n",
    "    obseravtions, gts, others = get_observation_other_gt_poses(local_batch.to(device))\n",
    "    \n",
    "    for observation, gt, other in zip(obseravtions, gts, others):\n",
    "        gt = observation.clone()\n",
    "        predictions = torch.zeros(1, 1, 0, 2).requires_grad_(True).to(device)\n",
    "        for timestamp in range(0, 12):\n",
    "            prediction = model(observation[:, 0+timestamp:8+timestamp, :].clone(), other[:, :, 0+timestamp:8+timestamp, :].clone())\n",
    "            observation[:,9+t:10+t,:] = prediction.clone()\n",
    "            predictions = torch.cat((predictions, prediction.unsqueeze(0)), dim=2)\n",
    "        break\n",
    "    break\n",
    "pass\n",
    "\n",
    "\n",
    "data = gt[:,:,:].detach().cpu()\n",
    "\n",
    "f, ax = plt.subplots(1,2)\n",
    "plot_traj(data,ax[0])\n",
    "\n",
    "data = gt[:,0:8,:].detach().cpu()\n",
    "plot_traj(data,ax[1])\n",
    "plot_traj(predictions[0].detach().cpu(),ax[1], color=\"b\")\n",
    "\n",
    "ax[0].axis('equal')\n",
    "ax[1].axis('equal')\n",
    "ax[0].set_ylim(-7, 7)\n",
    "ax[1].set_ylim(-7, 7)\n",
    "\n",
    "print (predictions.shape)\n",
    "\n",
    "# data = torch.cat((data, predictions[0].detach().cpu()), dim=1)\n",
    "# plot_traj(data)"
   ]
  },
  {
   "cell_type": "code",
   "execution_count": null,
   "metadata": {},
   "outputs": [],
   "source": []
  },
  {
   "cell_type": "markdown",
   "metadata": {},
   "source": [
    "# Parallel manner"
   ]
  },
  {
   "cell_type": "markdown",
   "metadata": {},
   "source": [
    "###  single - 1.83\n",
    "###  single with emb- 1.57 (LSTM_single_with_emb(40, 20, 2))"
   ]
  },
  {
   "cell_type": "code",
   "execution_count": 1,
   "metadata": {},
   "outputs": [],
   "source": [
    "import torch\n",
    "import torch.nn as nn\n",
    "import torch.nn.functional as F\n",
    "import torch.optim as optim\n",
    "import numpy as np\n",
    "from dataloader import Dataset_from_pkl, is_filled\n",
    "from model import LSTMTagger, LSTM_hid, LSTM_simple, OneLayer, LSTM_single, LSTM_single_with_emb, LSTM_delta\n",
    "torch.manual_seed(1)\n",
    "from tqdm import tqdm\n",
    "from utils import compare_prediction_gt\n"
   ]
  },
  {
   "cell_type": "code",
   "execution_count": 2,
   "metadata": {},
   "outputs": [],
   "source": [
    "from torch.utils.tensorboard import SummaryWriter\n",
    "\n",
    "def setup_experiment(title, logdir=\"./tb\"):\n",
    "    experiment_name = \"{}@{}\".format(title, datetime.now().strftime(\"%d.%m.%Y-%H:%M:%S\"))\n",
    "    writer = SummaryWriter(log_dir=os.path.join(logdir, experiment_name))\n",
    "    best_model_path = f\"{title}.best.pth\"\n",
    "    return writer, experiment_name, best_model_path\n",
    "\n",
    "\n",
    "def get_ade_fde(generator, model, limit=1e10):\n",
    "    ade = []\n",
    "    fde = []\n",
    "    for batch_id, local_batch in enumerate(generator):\n",
    "\n",
    "        if batch_id > limit:\n",
    "            break\n",
    "        if local_batch.shape[1] < 1:\n",
    "            continue\n",
    "        gt = local_batch.clone()\n",
    "        local_batch = local_batch.to(device)\n",
    "        num_peds = local_batch.shape[1]\n",
    "        predictions = torch.zeros(num_peds, 0, 2).requires_grad_(True).to(device)\n",
    "\n",
    "        for t in range(0, 12):\n",
    "            prediction = model(local_batch[0, :, 0 + t: 8 + t, 2:4])\n",
    "\n",
    "            #                 prediction = prediction.unsqueeze(1)\n",
    "            predictions = torch.cat((predictions, prediction), dim=1)\n",
    "            local_batch[0, :, 8 + t:9 + t, 2:4] = prediction.detach()\n",
    "\n",
    "        metrics = compare_prediction_gt(predictions.detach().cpu(), gt.detach().cpu()[0][:, :, 2:4])\n",
    "\n",
    "        for local_ade in metrics[\"ade\"]:\n",
    "            ade.append(local_ade)\n",
    "        for local_fde in metrics[\"fde\"]:\n",
    "            fde.append(local_fde)\n",
    "    ade = sum(ade) / len(ade)\n",
    "    fde = sum(fde) / len(fde)\n",
    "    return (ade, fde)\n",
    "\n",
    "\n",
    "def get_batch_is_filled_mask(batch):\n",
    "    num_peds = batch.shape[1]\n",
    "    mask = torch.zeros(num_peds, 12, 2)\n",
    "    full_peds = 0\n",
    "    for ped in range(num_peds):\n",
    "        if is_filled(batch[0][ped]):\n",
    "            mask[ped] = torch.ones(12, 2)\n",
    "            full_peds+=1\n",
    "    return mask, max(full_peds,1)\n",
    "\n",
    "def get_is_filled_mask(batch):\n",
    "    num_peds = batch.shape[1]\n",
    "    mask = torch.zeros(batch.shape[0], num_peds, 12, 2)\n",
    "    for b in range(batch.shape[0]):\n",
    "        submask = get_batch_is_filled_mask(batch[b:b+1])\n",
    "        mask[b, ...] = submask[0]\n",
    "    return  mask\n",
    "    "
   ]
  },
  {
   "cell_type": "code",
   "execution_count": 3,
   "metadata": {},
   "outputs": [
    {
     "name": "stdout",
     "output_type": "stream",
     "text": [
      "loading eth_train.pkl\n",
      "loading eth_test.pkl\n",
      "cuda\n"
     ]
    }
   ],
   "source": [
    "training_set = Dataset_from_pkl(\"/home/robot/repos/trajectory-prediction/processed/\", data_files=[\"eth_train.pkl\"])\n",
    "training_generator = torch.utils.data.DataLoader(training_set, batch_size=1)\n",
    "\n",
    "test_set = Dataset_from_pkl(\"/home/robot/repos/trajectory-prediction/processed/\", data_files=[\"eth_test.pkl\"])\n",
    "test_generator = torch.utils.data.DataLoader(training_set, batch_size=1)\n",
    "\n",
    "device = torch.device(\"cuda\") if torch.cuda.is_available() else torch.device(\"cpu\")\n",
    "print (device)\n",
    "# model  = LSTM_single(20, 2, 2).to(device)\n",
    "# model  = LSTM_simple(10, 2, 2).to(device)\n",
    "\n",
    "# model = LSTM_single_with_emb(40, 20, 2).to(device)\n",
    "model = LSTM_delta(40, 20, 2).to(device)\n",
    "\n"
   ]
  },
  {
   "cell_type": "code",
   "execution_count": 4,
   "metadata": {},
   "outputs": [],
   "source": [
    "import time\n",
    "from datetime import datetime\n",
    "import os\n",
    "optimizer = optim.Adam(model.parameters(), lr=0.01)\n",
    "drop_every_epochs = 10\n",
    "drop_rate = 0.4\n",
    "scheduler = torch.optim.lr_scheduler.StepLR(optimizer, drop_every_epochs, drop_rate) # every drop_every_epochs epochs drop by drop_rate lr\n",
    "writer, _, _ = setup_experiment(\"LSTM_single_with_emb\")\n",
    "\n"
   ]
  },
  {
   "cell_type": "code",
   "execution_count": 10,
   "metadata": {},
   "outputs": [
    {
     "name": "stdout",
     "output_type": "stream",
     "text": [
      "torch.Size([5, 4, 20, 8])\n"
     ]
    },
    {
     "ename": "RuntimeError",
     "evalue": "size mismatch, m1: [400 x 8], m2: [2 x 20] at /opt/conda/conda-bld/pytorch_1587428094786/work/aten/src/THC/generic/THCTensorMathBlas.cu:283",
     "output_type": "error",
     "traceback": [
      "\u001b[0;31m---------------------------------------------------------------------------\u001b[0m",
      "\u001b[0;31mRuntimeError\u001b[0m                              Traceback (most recent call last)",
      "\u001b[0;32m<ipython-input-10-75bed4aa53ea>\u001b[0m in \u001b[0;36m<module>\u001b[0;34m\u001b[0m\n\u001b[1;32m      9\u001b[0m     \u001b[0mlocal_batch\u001b[0m \u001b[0;34m=\u001b[0m \u001b[0mlocal_batch\u001b[0m\u001b[0;34m.\u001b[0m\u001b[0mto\u001b[0m\u001b[0;34m(\u001b[0m\u001b[0mdevice\u001b[0m\u001b[0;34m)\u001b[0m\u001b[0;34m\u001b[0m\u001b[0;34m\u001b[0m\u001b[0m\n\u001b[1;32m     10\u001b[0m     \u001b[0mprint\u001b[0m \u001b[0;34m(\u001b[0m\u001b[0mlocal_batch\u001b[0m\u001b[0;34m.\u001b[0m\u001b[0mshape\u001b[0m\u001b[0;34m)\u001b[0m\u001b[0;34m\u001b[0m\u001b[0;34m\u001b[0m\u001b[0m\n\u001b[0;32m---> 11\u001b[0;31m     \u001b[0mmodel\u001b[0m\u001b[0;34m(\u001b[0m\u001b[0mlocal_batch\u001b[0m\u001b[0;34m)\u001b[0m\u001b[0;34m\u001b[0m\u001b[0;34m\u001b[0m\u001b[0m\n\u001b[0m\u001b[1;32m     12\u001b[0m \u001b[0;31m#     for batch in range (0, batch_size):\u001b[0m\u001b[0;34m\u001b[0m\u001b[0;34m\u001b[0m\u001b[0;34m\u001b[0m\u001b[0m\n\u001b[1;32m     13\u001b[0m \u001b[0;34m\u001b[0m\u001b[0m\n",
      "\u001b[0;32m~/miniconda3/envs/pytorch_env/lib/python3.8/site-packages/torch/nn/modules/module.py\u001b[0m in \u001b[0;36m__call__\u001b[0;34m(self, *input, **kwargs)\u001b[0m\n\u001b[1;32m    548\u001b[0m             \u001b[0mresult\u001b[0m \u001b[0;34m=\u001b[0m \u001b[0mself\u001b[0m\u001b[0;34m.\u001b[0m\u001b[0m_slow_forward\u001b[0m\u001b[0;34m(\u001b[0m\u001b[0;34m*\u001b[0m\u001b[0minput\u001b[0m\u001b[0;34m,\u001b[0m \u001b[0;34m**\u001b[0m\u001b[0mkwargs\u001b[0m\u001b[0;34m)\u001b[0m\u001b[0;34m\u001b[0m\u001b[0;34m\u001b[0m\u001b[0m\n\u001b[1;32m    549\u001b[0m         \u001b[0;32melse\u001b[0m\u001b[0;34m:\u001b[0m\u001b[0;34m\u001b[0m\u001b[0;34m\u001b[0m\u001b[0m\n\u001b[0;32m--> 550\u001b[0;31m             \u001b[0mresult\u001b[0m \u001b[0;34m=\u001b[0m \u001b[0mself\u001b[0m\u001b[0;34m.\u001b[0m\u001b[0mforward\u001b[0m\u001b[0;34m(\u001b[0m\u001b[0;34m*\u001b[0m\u001b[0minput\u001b[0m\u001b[0;34m,\u001b[0m \u001b[0;34m**\u001b[0m\u001b[0mkwargs\u001b[0m\u001b[0;34m)\u001b[0m\u001b[0;34m\u001b[0m\u001b[0;34m\u001b[0m\u001b[0m\n\u001b[0m\u001b[1;32m    551\u001b[0m         \u001b[0;32mfor\u001b[0m \u001b[0mhook\u001b[0m \u001b[0;32min\u001b[0m \u001b[0mself\u001b[0m\u001b[0;34m.\u001b[0m\u001b[0m_forward_hooks\u001b[0m\u001b[0;34m.\u001b[0m\u001b[0mvalues\u001b[0m\u001b[0;34m(\u001b[0m\u001b[0;34m)\u001b[0m\u001b[0;34m:\u001b[0m\u001b[0;34m\u001b[0m\u001b[0;34m\u001b[0m\u001b[0m\n\u001b[1;32m    552\u001b[0m             \u001b[0mhook_result\u001b[0m \u001b[0;34m=\u001b[0m \u001b[0mhook\u001b[0m\u001b[0;34m(\u001b[0m\u001b[0mself\u001b[0m\u001b[0;34m,\u001b[0m \u001b[0minput\u001b[0m\u001b[0;34m,\u001b[0m \u001b[0mresult\u001b[0m\u001b[0;34m)\u001b[0m\u001b[0;34m\u001b[0m\u001b[0;34m\u001b[0m\u001b[0m\n",
      "\u001b[0;32m~/repos/trajectory-prediction/model.py\u001b[0m in \u001b[0;36mforward\u001b[0;34m(self, scene)\u001b[0m\n\u001b[1;32m    207\u001b[0m     \u001b[0;32mdef\u001b[0m \u001b[0mforward\u001b[0m\u001b[0;34m(\u001b[0m\u001b[0mself\u001b[0m\u001b[0;34m,\u001b[0m \u001b[0mscene\u001b[0m\u001b[0;34m)\u001b[0m\u001b[0;34m:\u001b[0m\u001b[0;34m\u001b[0m\u001b[0;34m\u001b[0m\u001b[0m\n\u001b[1;32m    208\u001b[0m         \u001b[0minp\u001b[0m \u001b[0;34m=\u001b[0m \u001b[0mscene\u001b[0m\u001b[0;34m\u001b[0m\u001b[0;34m\u001b[0m\u001b[0m\n\u001b[0;32m--> 209\u001b[0;31m         \u001b[0membedded\u001b[0m \u001b[0;34m=\u001b[0m \u001b[0mF\u001b[0m\u001b[0;34m.\u001b[0m\u001b[0mrelu\u001b[0m\u001b[0;34m(\u001b[0m\u001b[0mself\u001b[0m\u001b[0;34m.\u001b[0m\u001b[0minp_emb\u001b[0m\u001b[0;34m(\u001b[0m\u001b[0minp\u001b[0m\u001b[0;34m)\u001b[0m\u001b[0;34m.\u001b[0m\u001b[0mreshape\u001b[0m\u001b[0;34m(\u001b[0m\u001b[0mscene\u001b[0m\u001b[0;34m.\u001b[0m\u001b[0mshape\u001b[0m\u001b[0;34m[\u001b[0m\u001b[0;36m0\u001b[0m\u001b[0;34m]\u001b[0m\u001b[0;34m,\u001b[0m \u001b[0;34m-\u001b[0m\u001b[0;36m1\u001b[0m\u001b[0;34m,\u001b[0m \u001b[0mself\u001b[0m\u001b[0;34m.\u001b[0m\u001b[0minput_dim\u001b[0m\u001b[0;34m)\u001b[0m\u001b[0;34m)\u001b[0m\u001b[0;34m\u001b[0m\u001b[0;34m\u001b[0m\u001b[0m\n\u001b[0m\u001b[1;32m    210\u001b[0m         \u001b[0;31m# scene shape = num_peds, timestamps, data_dim\u001b[0m\u001b[0;34m\u001b[0m\u001b[0;34m\u001b[0m\u001b[0;34m\u001b[0m\u001b[0m\n\u001b[1;32m    211\u001b[0m         \u001b[0mlstm_out\u001b[0m\u001b[0;34m,\u001b[0m \u001b[0m_\u001b[0m \u001b[0;34m=\u001b[0m \u001b[0mself\u001b[0m\u001b[0;34m.\u001b[0m\u001b[0mnode_future_encoder\u001b[0m\u001b[0;34m(\u001b[0m\u001b[0membedded\u001b[0m\u001b[0;34m)\u001b[0m  \u001b[0;31m# lstm_out shape num_peds, timestamps ,  2*hidden_dim\u001b[0m\u001b[0;34m\u001b[0m\u001b[0;34m\u001b[0m\u001b[0m\n",
      "\u001b[0;32m~/miniconda3/envs/pytorch_env/lib/python3.8/site-packages/torch/nn/modules/module.py\u001b[0m in \u001b[0;36m__call__\u001b[0;34m(self, *input, **kwargs)\u001b[0m\n\u001b[1;32m    548\u001b[0m             \u001b[0mresult\u001b[0m \u001b[0;34m=\u001b[0m \u001b[0mself\u001b[0m\u001b[0;34m.\u001b[0m\u001b[0m_slow_forward\u001b[0m\u001b[0;34m(\u001b[0m\u001b[0;34m*\u001b[0m\u001b[0minput\u001b[0m\u001b[0;34m,\u001b[0m \u001b[0;34m**\u001b[0m\u001b[0mkwargs\u001b[0m\u001b[0;34m)\u001b[0m\u001b[0;34m\u001b[0m\u001b[0;34m\u001b[0m\u001b[0m\n\u001b[1;32m    549\u001b[0m         \u001b[0;32melse\u001b[0m\u001b[0;34m:\u001b[0m\u001b[0;34m\u001b[0m\u001b[0;34m\u001b[0m\u001b[0m\n\u001b[0;32m--> 550\u001b[0;31m             \u001b[0mresult\u001b[0m \u001b[0;34m=\u001b[0m \u001b[0mself\u001b[0m\u001b[0;34m.\u001b[0m\u001b[0mforward\u001b[0m\u001b[0;34m(\u001b[0m\u001b[0;34m*\u001b[0m\u001b[0minput\u001b[0m\u001b[0;34m,\u001b[0m \u001b[0;34m**\u001b[0m\u001b[0mkwargs\u001b[0m\u001b[0;34m)\u001b[0m\u001b[0;34m\u001b[0m\u001b[0;34m\u001b[0m\u001b[0m\n\u001b[0m\u001b[1;32m    551\u001b[0m         \u001b[0;32mfor\u001b[0m \u001b[0mhook\u001b[0m \u001b[0;32min\u001b[0m \u001b[0mself\u001b[0m\u001b[0;34m.\u001b[0m\u001b[0m_forward_hooks\u001b[0m\u001b[0;34m.\u001b[0m\u001b[0mvalues\u001b[0m\u001b[0;34m(\u001b[0m\u001b[0;34m)\u001b[0m\u001b[0;34m:\u001b[0m\u001b[0;34m\u001b[0m\u001b[0;34m\u001b[0m\u001b[0m\n\u001b[1;32m    552\u001b[0m             \u001b[0mhook_result\u001b[0m \u001b[0;34m=\u001b[0m \u001b[0mhook\u001b[0m\u001b[0;34m(\u001b[0m\u001b[0mself\u001b[0m\u001b[0;34m,\u001b[0m \u001b[0minput\u001b[0m\u001b[0;34m,\u001b[0m \u001b[0mresult\u001b[0m\u001b[0;34m)\u001b[0m\u001b[0;34m\u001b[0m\u001b[0;34m\u001b[0m\u001b[0m\n",
      "\u001b[0;32m~/miniconda3/envs/pytorch_env/lib/python3.8/site-packages/torch/nn/modules/linear.py\u001b[0m in \u001b[0;36mforward\u001b[0;34m(self, input)\u001b[0m\n\u001b[1;32m     85\u001b[0m \u001b[0;34m\u001b[0m\u001b[0m\n\u001b[1;32m     86\u001b[0m     \u001b[0;32mdef\u001b[0m \u001b[0mforward\u001b[0m\u001b[0;34m(\u001b[0m\u001b[0mself\u001b[0m\u001b[0;34m,\u001b[0m \u001b[0minput\u001b[0m\u001b[0;34m)\u001b[0m\u001b[0;34m:\u001b[0m\u001b[0;34m\u001b[0m\u001b[0;34m\u001b[0m\u001b[0m\n\u001b[0;32m---> 87\u001b[0;31m         \u001b[0;32mreturn\u001b[0m \u001b[0mF\u001b[0m\u001b[0;34m.\u001b[0m\u001b[0mlinear\u001b[0m\u001b[0;34m(\u001b[0m\u001b[0minput\u001b[0m\u001b[0;34m,\u001b[0m \u001b[0mself\u001b[0m\u001b[0;34m.\u001b[0m\u001b[0mweight\u001b[0m\u001b[0;34m,\u001b[0m \u001b[0mself\u001b[0m\u001b[0;34m.\u001b[0m\u001b[0mbias\u001b[0m\u001b[0;34m)\u001b[0m\u001b[0;34m\u001b[0m\u001b[0;34m\u001b[0m\u001b[0m\n\u001b[0m\u001b[1;32m     88\u001b[0m \u001b[0;34m\u001b[0m\u001b[0m\n\u001b[1;32m     89\u001b[0m     \u001b[0;32mdef\u001b[0m \u001b[0mextra_repr\u001b[0m\u001b[0;34m(\u001b[0m\u001b[0mself\u001b[0m\u001b[0;34m)\u001b[0m\u001b[0;34m:\u001b[0m\u001b[0;34m\u001b[0m\u001b[0;34m\u001b[0m\u001b[0m\n",
      "\u001b[0;32m~/miniconda3/envs/pytorch_env/lib/python3.8/site-packages/torch/nn/functional.py\u001b[0m in \u001b[0;36mlinear\u001b[0;34m(input, weight, bias)\u001b[0m\n\u001b[1;32m   1610\u001b[0m         \u001b[0mret\u001b[0m \u001b[0;34m=\u001b[0m \u001b[0mtorch\u001b[0m\u001b[0;34m.\u001b[0m\u001b[0maddmm\u001b[0m\u001b[0;34m(\u001b[0m\u001b[0mbias\u001b[0m\u001b[0;34m,\u001b[0m \u001b[0minput\u001b[0m\u001b[0;34m,\u001b[0m \u001b[0mweight\u001b[0m\u001b[0;34m.\u001b[0m\u001b[0mt\u001b[0m\u001b[0;34m(\u001b[0m\u001b[0;34m)\u001b[0m\u001b[0;34m)\u001b[0m\u001b[0;34m\u001b[0m\u001b[0;34m\u001b[0m\u001b[0m\n\u001b[1;32m   1611\u001b[0m     \u001b[0;32melse\u001b[0m\u001b[0;34m:\u001b[0m\u001b[0;34m\u001b[0m\u001b[0;34m\u001b[0m\u001b[0m\n\u001b[0;32m-> 1612\u001b[0;31m         \u001b[0moutput\u001b[0m \u001b[0;34m=\u001b[0m \u001b[0minput\u001b[0m\u001b[0;34m.\u001b[0m\u001b[0mmatmul\u001b[0m\u001b[0;34m(\u001b[0m\u001b[0mweight\u001b[0m\u001b[0;34m.\u001b[0m\u001b[0mt\u001b[0m\u001b[0;34m(\u001b[0m\u001b[0;34m)\u001b[0m\u001b[0;34m)\u001b[0m\u001b[0;34m\u001b[0m\u001b[0;34m\u001b[0m\u001b[0m\n\u001b[0m\u001b[1;32m   1613\u001b[0m         \u001b[0;32mif\u001b[0m \u001b[0mbias\u001b[0m \u001b[0;32mis\u001b[0m \u001b[0;32mnot\u001b[0m \u001b[0;32mNone\u001b[0m\u001b[0;34m:\u001b[0m\u001b[0;34m\u001b[0m\u001b[0;34m\u001b[0m\u001b[0m\n\u001b[1;32m   1614\u001b[0m             \u001b[0moutput\u001b[0m \u001b[0;34m+=\u001b[0m \u001b[0mbias\u001b[0m\u001b[0;34m\u001b[0m\u001b[0;34m\u001b[0m\u001b[0m\n",
      "\u001b[0;31mRuntimeError\u001b[0m: size mismatch, m1: [400 x 8], m2: [2 x 20] at /opt/conda/conda-bld/pytorch_1587428094786/work/aten/src/THC/generic/THCTensorMathBlas.cu:283"
     ]
    }
   ],
   "source": [
    "batch_size  = 5\n",
    "batch_id = 0\n",
    "dataset_len = len(training_set)\n",
    "\n",
    "while batch_id < dataset_len:\n",
    "    local_batch = training_set[batch_id, batch_size]\n",
    "    batch_id += batch_size\n",
    "    mask = get_is_filled_mask(local_batch)\n",
    "    local_batch = local_batch.to(device)\n",
    "    print (local_batch.shape)\n",
    "    model(local_batch)\n",
    "#     for batch in range (0, batch_size):\n",
    "        \n",
    "#         mask, _ = get_batch_is_filled_mask(local_batch[batch:batch+1])\n",
    "    break\n",
    "\n",
    "\n",
    "# for batch_id, local_batch in enumerate(training_set[batch_id, batch_size]):\n",
    "#     batch_id+=batch_size\n",
    "#     print (local_batch.shape)\n",
    "#     break\n",
    "    # for batch_id, local_batch in enumerate(training_generator):\n",
    "#     if batch_id != 120:\n",
    "#         continue\n",
    "#     mask, _ = get_batch_is_filled_mask(local_batch)\n",
    "#     print (mask[:,0,0])\n",
    "#     break\n"
   ]
  },
  {
   "cell_type": "code",
   "execution_count": 8,
   "metadata": {
    "scrolled": true
   },
   "outputs": [
    {
     "name": "stdout",
     "output_type": "stream",
     "text": [
      "epoch 0 loss 1.2896, time taken 3.40, delta 1.290\n",
      "epoch 1 loss 1.0313, time taken 3.34, delta -0.258\n"
     ]
    },
    {
     "ename": "KeyboardInterrupt",
     "evalue": "",
     "output_type": "error",
     "traceback": [
      "\u001b[0;31m---------------------------------------------------------------------------\u001b[0m",
      "\u001b[0;31mKeyboardInterrupt\u001b[0m                         Traceback (most recent call last)",
      "\u001b[0;32m<ipython-input-8-ed4eaf5f701c>\u001b[0m in \u001b[0;36m<module>\u001b[0;34m\u001b[0m\n\u001b[1;32m     21\u001b[0m         \u001b[0;32mfor\u001b[0m \u001b[0mt\u001b[0m \u001b[0;32min\u001b[0m \u001b[0mrange\u001b[0m\u001b[0;34m(\u001b[0m\u001b[0;36m0\u001b[0m\u001b[0;34m,\u001b[0m\u001b[0;36m12\u001b[0m\u001b[0;34m)\u001b[0m\u001b[0;34m:\u001b[0m\u001b[0;34m\u001b[0m\u001b[0;34m\u001b[0m\u001b[0m\n\u001b[1;32m     22\u001b[0m \u001b[0;31m#             print(local_batch.shape)\u001b[0m\u001b[0;34m\u001b[0m\u001b[0;34m\u001b[0m\u001b[0;34m\u001b[0m\u001b[0m\n\u001b[0;32m---> 23\u001b[0;31m             \u001b[0mprediction\u001b[0m \u001b[0;34m=\u001b[0m \u001b[0mmodel\u001b[0m\u001b[0;34m(\u001b[0m\u001b[0mlocal_batch\u001b[0m\u001b[0;34m[\u001b[0m\u001b[0;36m0\u001b[0m\u001b[0;34m,\u001b[0m\u001b[0;34m:\u001b[0m\u001b[0;34m,\u001b[0m\u001b[0;36m0\u001b[0m\u001b[0;34m+\u001b[0m\u001b[0mt\u001b[0m\u001b[0;34m:\u001b[0m\u001b[0;36m8\u001b[0m\u001b[0;34m+\u001b[0m\u001b[0mt\u001b[0m\u001b[0;34m,\u001b[0m\u001b[0;36m2\u001b[0m\u001b[0;34m:\u001b[0m\u001b[0;36m4\u001b[0m\u001b[0;34m]\u001b[0m\u001b[0;34m)\u001b[0m\u001b[0;34m\u001b[0m\u001b[0;34m\u001b[0m\u001b[0m\n\u001b[0m\u001b[1;32m     24\u001b[0m             \u001b[0mpredictions\u001b[0m \u001b[0;34m=\u001b[0m \u001b[0mtorch\u001b[0m\u001b[0;34m.\u001b[0m\u001b[0mcat\u001b[0m\u001b[0;34m(\u001b[0m\u001b[0;34m(\u001b[0m\u001b[0mpredictions\u001b[0m\u001b[0;34m,\u001b[0m \u001b[0mprediction\u001b[0m\u001b[0;34m)\u001b[0m\u001b[0;34m,\u001b[0m \u001b[0mdim\u001b[0m\u001b[0;34m=\u001b[0m\u001b[0;36m1\u001b[0m\u001b[0;34m)\u001b[0m\u001b[0;34m\u001b[0m\u001b[0;34m\u001b[0m\u001b[0m\n\u001b[1;32m     25\u001b[0m \u001b[0;34m\u001b[0m\u001b[0m\n",
      "\u001b[0;32m~/miniconda3/envs/pytorch_env/lib/python3.8/site-packages/torch/nn/modules/module.py\u001b[0m in \u001b[0;36m__call__\u001b[0;34m(self, *input, **kwargs)\u001b[0m\n\u001b[1;32m    548\u001b[0m             \u001b[0mresult\u001b[0m \u001b[0;34m=\u001b[0m \u001b[0mself\u001b[0m\u001b[0;34m.\u001b[0m\u001b[0m_slow_forward\u001b[0m\u001b[0;34m(\u001b[0m\u001b[0;34m*\u001b[0m\u001b[0minput\u001b[0m\u001b[0;34m,\u001b[0m \u001b[0;34m**\u001b[0m\u001b[0mkwargs\u001b[0m\u001b[0;34m)\u001b[0m\u001b[0;34m\u001b[0m\u001b[0;34m\u001b[0m\u001b[0m\n\u001b[1;32m    549\u001b[0m         \u001b[0;32melse\u001b[0m\u001b[0;34m:\u001b[0m\u001b[0;34m\u001b[0m\u001b[0;34m\u001b[0m\u001b[0m\n\u001b[0;32m--> 550\u001b[0;31m             \u001b[0mresult\u001b[0m \u001b[0;34m=\u001b[0m \u001b[0mself\u001b[0m\u001b[0;34m.\u001b[0m\u001b[0mforward\u001b[0m\u001b[0;34m(\u001b[0m\u001b[0;34m*\u001b[0m\u001b[0minput\u001b[0m\u001b[0;34m,\u001b[0m \u001b[0;34m**\u001b[0m\u001b[0mkwargs\u001b[0m\u001b[0;34m)\u001b[0m\u001b[0;34m\u001b[0m\u001b[0;34m\u001b[0m\u001b[0m\n\u001b[0m\u001b[1;32m    551\u001b[0m         \u001b[0;32mfor\u001b[0m \u001b[0mhook\u001b[0m \u001b[0;32min\u001b[0m \u001b[0mself\u001b[0m\u001b[0;34m.\u001b[0m\u001b[0m_forward_hooks\u001b[0m\u001b[0;34m.\u001b[0m\u001b[0mvalues\u001b[0m\u001b[0;34m(\u001b[0m\u001b[0;34m)\u001b[0m\u001b[0;34m:\u001b[0m\u001b[0;34m\u001b[0m\u001b[0;34m\u001b[0m\u001b[0m\n\u001b[1;32m    552\u001b[0m             \u001b[0mhook_result\u001b[0m \u001b[0;34m=\u001b[0m \u001b[0mhook\u001b[0m\u001b[0;34m(\u001b[0m\u001b[0mself\u001b[0m\u001b[0;34m,\u001b[0m \u001b[0minput\u001b[0m\u001b[0;34m,\u001b[0m \u001b[0mresult\u001b[0m\u001b[0;34m)\u001b[0m\u001b[0;34m\u001b[0m\u001b[0;34m\u001b[0m\u001b[0m\n",
      "\u001b[0;32m~/repos/trajectory-prediction/model.py\u001b[0m in \u001b[0;36mforward\u001b[0;34m(self, scene)\u001b[0m\n\u001b[1;32m    212\u001b[0m         \u001b[0mcurrent\u001b[0m \u001b[0;34m=\u001b[0m \u001b[0mscene\u001b[0m\u001b[0;34m[\u001b[0m\u001b[0;34m:\u001b[0m\u001b[0;34m,\u001b[0m \u001b[0;34m-\u001b[0m\u001b[0;36m1\u001b[0m\u001b[0;34m,\u001b[0m \u001b[0;34m:\u001b[0m\u001b[0;34m]\u001b[0m\u001b[0;34m\u001b[0m\u001b[0;34m\u001b[0m\u001b[0m\n\u001b[1;32m    213\u001b[0m         \u001b[0mcurrent_emb\u001b[0m \u001b[0;34m=\u001b[0m \u001b[0mF\u001b[0m\u001b[0;34m.\u001b[0m\u001b[0mrelu\u001b[0m\u001b[0;34m(\u001b[0m\u001b[0mself\u001b[0m\u001b[0;34m.\u001b[0m\u001b[0mcurrent_inp_emb\u001b[0m\u001b[0;34m(\u001b[0m\u001b[0mcurrent\u001b[0m\u001b[0;34m)\u001b[0m\u001b[0;34m)\u001b[0m\u001b[0;34m\u001b[0m\u001b[0;34m\u001b[0m\u001b[0m\n\u001b[0;32m--> 214\u001b[0;31m         \u001b[0mdistr\u001b[0m\u001b[0;34m,\u001b[0m \u001b[0m_\u001b[0m \u001b[0;34m=\u001b[0m \u001b[0mself\u001b[0m\u001b[0;34m.\u001b[0m\u001b[0medge_encoder\u001b[0m\u001b[0;34m(\u001b[0m\u001b[0mcurrent_emb\u001b[0m\u001b[0;34m.\u001b[0m\u001b[0munsqueeze\u001b[0m\u001b[0;34m(\u001b[0m\u001b[0;36m1\u001b[0m\u001b[0;34m)\u001b[0m\u001b[0;34m)\u001b[0m  \u001b[0;31m# shape num_peds, timestamps ,  2*hidden_dim\u001b[0m\u001b[0;34m\u001b[0m\u001b[0;34m\u001b[0m\u001b[0m\n\u001b[0m\u001b[1;32m    215\u001b[0m         \u001b[0mcatted\u001b[0m \u001b[0;34m=\u001b[0m \u001b[0mtorch\u001b[0m\u001b[0;34m.\u001b[0m\u001b[0mcat\u001b[0m\u001b[0;34m(\u001b[0m\u001b[0;34m(\u001b[0m\u001b[0mlstm_out\u001b[0m\u001b[0;34m,\u001b[0m \u001b[0mdistr\u001b[0m\u001b[0;34m)\u001b[0m\u001b[0;34m,\u001b[0m \u001b[0mdim\u001b[0m\u001b[0;34m=\u001b[0m\u001b[0;36m1\u001b[0m\u001b[0;34m)\u001b[0m\u001b[0;34m.\u001b[0m\u001b[0mreshape\u001b[0m\u001b[0;34m(\u001b[0m\u001b[0;34m-\u001b[0m\u001b[0;36m1\u001b[0m\u001b[0;34m,\u001b[0m \u001b[0;36m18\u001b[0m \u001b[0;34m*\u001b[0m \u001b[0mself\u001b[0m\u001b[0;34m.\u001b[0m\u001b[0mhidden_dim\u001b[0m\u001b[0;34m)\u001b[0m\u001b[0;34m\u001b[0m\u001b[0;34m\u001b[0m\u001b[0m\n\u001b[1;32m    216\u001b[0m         \u001b[0mtag_space\u001b[0m \u001b[0;34m=\u001b[0m \u001b[0;34m(\u001b[0m\u001b[0mscene\u001b[0m\u001b[0;34m.\u001b[0m\u001b[0mclone\u001b[0m\u001b[0;34m(\u001b[0m\u001b[0;34m)\u001b[0m\u001b[0;34m[\u001b[0m\u001b[0;34m:\u001b[0m\u001b[0;34m,\u001b[0m \u001b[0;34m-\u001b[0m\u001b[0;36m1\u001b[0m\u001b[0;34m,\u001b[0m \u001b[0;34m:\u001b[0m\u001b[0;34m]\u001b[0m \u001b[0;34m+\u001b[0m \u001b[0mself\u001b[0m\u001b[0;34m.\u001b[0m\u001b[0mhidden2tag\u001b[0m\u001b[0;34m(\u001b[0m\u001b[0mcatted\u001b[0m\u001b[0;34m)\u001b[0m\u001b[0;34m)\u001b[0m\u001b[0;34m.\u001b[0m\u001b[0munsqueeze\u001b[0m\u001b[0;34m(\u001b[0m\u001b[0;36m1\u001b[0m\u001b[0;34m)\u001b[0m\u001b[0;34m\u001b[0m\u001b[0;34m\u001b[0m\u001b[0m\n",
      "\u001b[0;32m~/miniconda3/envs/pytorch_env/lib/python3.8/site-packages/torch/nn/modules/module.py\u001b[0m in \u001b[0;36m__call__\u001b[0;34m(self, *input, **kwargs)\u001b[0m\n\u001b[1;32m    548\u001b[0m             \u001b[0mresult\u001b[0m \u001b[0;34m=\u001b[0m \u001b[0mself\u001b[0m\u001b[0;34m.\u001b[0m\u001b[0m_slow_forward\u001b[0m\u001b[0;34m(\u001b[0m\u001b[0;34m*\u001b[0m\u001b[0minput\u001b[0m\u001b[0;34m,\u001b[0m \u001b[0;34m**\u001b[0m\u001b[0mkwargs\u001b[0m\u001b[0;34m)\u001b[0m\u001b[0;34m\u001b[0m\u001b[0;34m\u001b[0m\u001b[0m\n\u001b[1;32m    549\u001b[0m         \u001b[0;32melse\u001b[0m\u001b[0;34m:\u001b[0m\u001b[0;34m\u001b[0m\u001b[0;34m\u001b[0m\u001b[0m\n\u001b[0;32m--> 550\u001b[0;31m             \u001b[0mresult\u001b[0m \u001b[0;34m=\u001b[0m \u001b[0mself\u001b[0m\u001b[0;34m.\u001b[0m\u001b[0mforward\u001b[0m\u001b[0;34m(\u001b[0m\u001b[0;34m*\u001b[0m\u001b[0minput\u001b[0m\u001b[0;34m,\u001b[0m \u001b[0;34m**\u001b[0m\u001b[0mkwargs\u001b[0m\u001b[0;34m)\u001b[0m\u001b[0;34m\u001b[0m\u001b[0;34m\u001b[0m\u001b[0m\n\u001b[0m\u001b[1;32m    551\u001b[0m         \u001b[0;32mfor\u001b[0m \u001b[0mhook\u001b[0m \u001b[0;32min\u001b[0m \u001b[0mself\u001b[0m\u001b[0;34m.\u001b[0m\u001b[0m_forward_hooks\u001b[0m\u001b[0;34m.\u001b[0m\u001b[0mvalues\u001b[0m\u001b[0;34m(\u001b[0m\u001b[0;34m)\u001b[0m\u001b[0;34m:\u001b[0m\u001b[0;34m\u001b[0m\u001b[0;34m\u001b[0m\u001b[0m\n\u001b[1;32m    552\u001b[0m             \u001b[0mhook_result\u001b[0m \u001b[0;34m=\u001b[0m \u001b[0mhook\u001b[0m\u001b[0;34m(\u001b[0m\u001b[0mself\u001b[0m\u001b[0;34m,\u001b[0m \u001b[0minput\u001b[0m\u001b[0;34m,\u001b[0m \u001b[0mresult\u001b[0m\u001b[0;34m)\u001b[0m\u001b[0;34m\u001b[0m\u001b[0;34m\u001b[0m\u001b[0m\n",
      "\u001b[0;32m~/miniconda3/envs/pytorch_env/lib/python3.8/site-packages/torch/nn/modules/rnn.py\u001b[0m in \u001b[0;36mforward\u001b[0;34m(self, input, hx)\u001b[0m\n\u001b[1;32m    567\u001b[0m         \u001b[0mself\u001b[0m\u001b[0;34m.\u001b[0m\u001b[0mcheck_forward_args\u001b[0m\u001b[0;34m(\u001b[0m\u001b[0minput\u001b[0m\u001b[0;34m,\u001b[0m \u001b[0mhx\u001b[0m\u001b[0;34m,\u001b[0m \u001b[0mbatch_sizes\u001b[0m\u001b[0;34m)\u001b[0m\u001b[0;34m\u001b[0m\u001b[0;34m\u001b[0m\u001b[0m\n\u001b[1;32m    568\u001b[0m         \u001b[0;32mif\u001b[0m \u001b[0mbatch_sizes\u001b[0m \u001b[0;32mis\u001b[0m \u001b[0;32mNone\u001b[0m\u001b[0;34m:\u001b[0m\u001b[0;34m\u001b[0m\u001b[0;34m\u001b[0m\u001b[0m\n\u001b[0;32m--> 569\u001b[0;31m             result = _VF.lstm(input, hx, self._flat_weights, self.bias, self.num_layers,\n\u001b[0m\u001b[1;32m    570\u001b[0m                               self.dropout, self.training, self.bidirectional, self.batch_first)\n\u001b[1;32m    571\u001b[0m         \u001b[0;32melse\u001b[0m\u001b[0;34m:\u001b[0m\u001b[0;34m\u001b[0m\u001b[0;34m\u001b[0m\u001b[0m\n",
      "\u001b[0;31mKeyboardInterrupt\u001b[0m: "
     ]
    }
   ],
   "source": [
    "prev_epoch_loss = 0\n",
    "for epoch in range(0,61):\n",
    "    model.train()\n",
    "    epoch_loss = 0\n",
    "    start = time.time()\n",
    "    epoch_loss = 0\n",
    "    num_skipped = 0\n",
    "    for batch_id, local_batch in enumerate(training_generator):\n",
    "        if (batch_id>100):\n",
    "            break\n",
    "        local_batch = local_batch.to(device)\n",
    "        model.zero_grad()\n",
    "        num_peds = local_batch.shape[1]\n",
    "        predictions = torch.zeros(num_peds, 0, 2).requires_grad_(True).to(device)\n",
    "        mask, full_peds = get_batch_is_filled_mask(local_batch)\n",
    "        mask = mask.to(device)\n",
    "        gt = local_batch.clone()\n",
    "        if torch.sum(mask) == 0.0:\n",
    "            num_skipped += 1\n",
    "            continue\n",
    "        for t in range(0, 12):\n",
    "            prediction = model(local_batch[0,:,0+t:8+t,2:4])\n",
    "            predictions = torch.cat((predictions, prediction), dim=1)\n",
    "\n",
    "        loss = torch.sum(torch.norm(mask*(predictions - gt[0,:,8:,2:4])))\n",
    "        epoch_loss += loss.item()/full_peds\n",
    "        loss.backward()\n",
    "        optimizer.step()\n",
    "    \n",
    "    epoch_loss = epoch_loss/(batch_id - num_skipped)\n",
    "    print (\"epoch {epoch} loss {el:0.4f}, time taken {t:0.2f}, delta {delta:0.3f}\".format(epoch=epoch, el=epoch_loss,t=time.time()-start, delta=-prev_epoch_loss+epoch_loss) )\n",
    "    if writer is not None:\n",
    "            writer.add_scalar(f\"loss_epoch\", epoch_loss, epoch)\n",
    "\n",
    "    prev_epoch_loss = epoch_loss\n",
    "    scheduler.step()\n",
    "    model.eval()\n",
    "    ade, fde = get_ade_fde(test_generator, model,50)\n",
    "    if writer is not None:\n",
    "            writer.add_scalar(f\"ade\", ade, epoch)\n",
    "            writer.add_scalar(f\"fde\", fde, epoch)"
   ]
  },
  {
   "cell_type": "code",
   "execution_count": 13,
   "metadata": {},
   "outputs": [
    {
     "ename": "RuntimeError",
     "evalue": "Tensors must have same number of dimensions: got 4 and 3",
     "output_type": "error",
     "traceback": [
      "\u001b[0;31m---------------------------------------------------------------------------\u001b[0m",
      "\u001b[0;31mRuntimeError\u001b[0m                              Traceback (most recent call last)",
      "\u001b[0;32m<ipython-input-13-0c0eb7e7626c>\u001b[0m in \u001b[0;36m<module>\u001b[0;34m\u001b[0m\n\u001b[1;32m     12\u001b[0m \u001b[0;31m#             print (prediction[3,:])\u001b[0m\u001b[0;34m\u001b[0m\u001b[0;34m\u001b[0m\u001b[0;34m\u001b[0m\u001b[0m\n\u001b[1;32m     13\u001b[0m             \u001b[0mprediction\u001b[0m \u001b[0;34m=\u001b[0m \u001b[0mprediction\u001b[0m\u001b[0;34m.\u001b[0m\u001b[0munsqueeze\u001b[0m\u001b[0;34m(\u001b[0m\u001b[0;36m1\u001b[0m\u001b[0;34m)\u001b[0m\u001b[0;34m\u001b[0m\u001b[0;34m\u001b[0m\u001b[0m\n\u001b[0;32m---> 14\u001b[0;31m             \u001b[0mpredictions\u001b[0m \u001b[0;34m=\u001b[0m \u001b[0mtorch\u001b[0m\u001b[0;34m.\u001b[0m\u001b[0mcat\u001b[0m\u001b[0;34m(\u001b[0m\u001b[0;34m(\u001b[0m\u001b[0mpredictions\u001b[0m\u001b[0;34m,\u001b[0m \u001b[0mprediction\u001b[0m\u001b[0;34m)\u001b[0m\u001b[0;34m,\u001b[0m \u001b[0mdim\u001b[0m\u001b[0;34m=\u001b[0m\u001b[0;36m1\u001b[0m\u001b[0;34m)\u001b[0m\u001b[0;34m\u001b[0m\u001b[0;34m\u001b[0m\u001b[0m\n\u001b[0m\u001b[1;32m     15\u001b[0m             \u001b[0mlocal_batch\u001b[0m\u001b[0;34m[\u001b[0m\u001b[0;36m0\u001b[0m\u001b[0;34m,\u001b[0m\u001b[0;34m:\u001b[0m\u001b[0;34m,\u001b[0m\u001b[0;36m9\u001b[0m\u001b[0;34m+\u001b[0m\u001b[0mt\u001b[0m\u001b[0;34m:\u001b[0m\u001b[0;36m10\u001b[0m\u001b[0;34m+\u001b[0m\u001b[0mt\u001b[0m\u001b[0;34m,\u001b[0m\u001b[0;36m2\u001b[0m\u001b[0;34m:\u001b[0m\u001b[0;36m4\u001b[0m\u001b[0;34m]\u001b[0m \u001b[0;34m=\u001b[0m \u001b[0mprediction\u001b[0m\u001b[0;34m.\u001b[0m\u001b[0mdetach\u001b[0m\u001b[0;34m(\u001b[0m\u001b[0;34m)\u001b[0m\u001b[0;34m\u001b[0m\u001b[0;34m\u001b[0m\u001b[0m\n\u001b[1;32m     16\u001b[0m \u001b[0;31m#             print (local_batch[0,3,9+t,2:4])\u001b[0m\u001b[0;34m\u001b[0m\u001b[0;34m\u001b[0m\u001b[0;34m\u001b[0m\u001b[0m\n",
      "\u001b[0;31mRuntimeError\u001b[0m: Tensors must have same number of dimensions: got 4 and 3"
     ]
    }
   ],
   "source": [
    "for batch_id, local_batch in enumerate(training_generator):\n",
    "    if batch_id != 400:\n",
    "        continue\n",
    "    gt = local_batch.clone()\n",
    "    local_batch = local_batch.to(device)\n",
    "    num_peds = local_batch.shape[1]\n",
    "    predictions = torch.zeros(num_peds, 0, 2).requires_grad_(True).to(device)\n",
    "    \n",
    "    for t in range(0,12):\n",
    "#             print (local_batch[0,3,7+t:10+t,2:4])\n",
    "            prediction = model(local_batch[0,:,0+t:8+t,2:4])\n",
    "#             print (prediction[3,:])\n",
    "            prediction = prediction.unsqueeze(1)\n",
    "            predictions = torch.cat((predictions, prediction), dim=1)\n",
    "            local_batch[0,:,9+t:10+t,2:4] = prediction.detach()\n",
    "#             print (local_batch[0,3,9+t,2:4])\n",
    "        \n",
    "    break\n",
    "pass\n",
    "\n",
    "ped_num = 1\n",
    "\n",
    "data = gt[0,ped_num:ped_num+1,:,2:4].cpu()\n",
    "\n",
    "fig, ax = plt.subplots(1, 3, figsize=(9, 3))\n",
    "plot_traj(data, ax=ax[1],color=\"blue\")\n",
    "\n",
    "data = gt[0,:,:,2:4].cpu()\n",
    "plot_traj(data, ax=ax[0],color=\"blue\")\n",
    "\n",
    "# data = torch.cat((gt[0,ped_num:ped_num+1,0:8,2:4], predictions[ped_num:ped_num+1,:,:].detach().cpu()),dim=1)\\\n",
    "\n",
    "plot_traj(gt[0,ped_num:ped_num+1,0:8,2:4], ax[2], color=\"blue\")\n",
    "plot_traj(predictions[ped_num:ped_num+1, :, :].detach().cpu(),ax[2])\n",
    "\n",
    "ax[0].axis('equal')\n",
    "ax[1].axis('equal')\n",
    "ax[2].axis('equal')\n",
    "\n",
    "ax[0].set_ylim(-10, 10)\n",
    "ax[0].set_xlim(-10, 10)\n",
    "\n",
    "ax[1].set_ylim(-10, 10)\n",
    "ax[1].set_xlim(-10, 10)\n",
    "\n",
    "\n",
    "# data = obseravtions[0][:,:,:].detach().cpu()\n",
    "# plot_traj(data)\n",
    "# data = obseravtions[0][:,0:8,:].detach().cpu()\n",
    "# data = torch.cat((data, predictions[0].detach().cpu()), dim=1)\n",
    "# plot_traj(data)"
   ]
  },
  {
   "cell_type": "code",
   "execution_count": 12,
   "metadata": {},
   "outputs": [
    {
     "ename": "RuntimeError",
     "evalue": "size mismatch, m1: [6 x 8], m2: [2 x 20] at /opt/conda/conda-bld/pytorch_1587428094786/work/aten/src/THC/generic/THCTensorMathBlas.cu:283",
     "output_type": "error",
     "traceback": [
      "\u001b[0;31m---------------------------------------------------------------------------\u001b[0m",
      "\u001b[0;31mRuntimeError\u001b[0m                              Traceback (most recent call last)",
      "\u001b[0;32m<ipython-input-12-a95d09715d04>\u001b[0m in \u001b[0;36m<module>\u001b[0;34m\u001b[0m\n\u001b[0;32m----> 1\u001b[0;31m \u001b[0mget_ade_fde\u001b[0m\u001b[0;34m(\u001b[0m\u001b[0mtraining_generator\u001b[0m\u001b[0;34m,\u001b[0m \u001b[0mmodel\u001b[0m\u001b[0;34m,\u001b[0m \u001b[0;36m200\u001b[0m\u001b[0;34m)\u001b[0m\u001b[0;34m\u001b[0m\u001b[0;34m\u001b[0m\u001b[0m\n\u001b[0m",
      "\u001b[0;32m<ipython-input-2-aa49d65f0545>\u001b[0m in \u001b[0;36mget_ade_fde\u001b[0;34m(generator, model, limit)\u001b[0m\n\u001b[1;32m     22\u001b[0m         \u001b[0;32mfor\u001b[0m \u001b[0mt\u001b[0m \u001b[0;32min\u001b[0m \u001b[0mrange\u001b[0m\u001b[0;34m(\u001b[0m\u001b[0;36m0\u001b[0m\u001b[0;34m,\u001b[0m\u001b[0;36m12\u001b[0m\u001b[0;34m)\u001b[0m\u001b[0;34m:\u001b[0m\u001b[0;34m\u001b[0m\u001b[0;34m\u001b[0m\u001b[0m\n\u001b[1;32m     23\u001b[0m \u001b[0;34m\u001b[0m\u001b[0m\n\u001b[0;32m---> 24\u001b[0;31m                 \u001b[0mprediction\u001b[0m \u001b[0;34m=\u001b[0m \u001b[0mmodel\u001b[0m\u001b[0;34m(\u001b[0m\u001b[0mlocal_batch\u001b[0m\u001b[0;34m[\u001b[0m\u001b[0;36m0\u001b[0m\u001b[0;34m,\u001b[0m\u001b[0;34m:\u001b[0m\u001b[0;34m,\u001b[0m\u001b[0;36m0\u001b[0m\u001b[0;34m+\u001b[0m\u001b[0mt\u001b[0m\u001b[0;34m:\u001b[0m\u001b[0;36m8\u001b[0m\u001b[0;34m+\u001b[0m\u001b[0mt\u001b[0m\u001b[0;34m,\u001b[0m\u001b[0;36m2\u001b[0m\u001b[0;34m:\u001b[0m\u001b[0;36m4\u001b[0m\u001b[0;34m]\u001b[0m\u001b[0;34m)\u001b[0m\u001b[0;34m\u001b[0m\u001b[0;34m\u001b[0m\u001b[0m\n\u001b[0m\u001b[1;32m     25\u001b[0m \u001b[0;34m\u001b[0m\u001b[0m\n\u001b[1;32m     26\u001b[0m \u001b[0;31m#                 prediction = prediction.unsqueeze(1)\u001b[0m\u001b[0;34m\u001b[0m\u001b[0;34m\u001b[0m\u001b[0;34m\u001b[0m\u001b[0m\n",
      "\u001b[0;32m~/miniconda3/envs/pytorch_env/lib/python3.8/site-packages/torch/nn/modules/module.py\u001b[0m in \u001b[0;36m__call__\u001b[0;34m(self, *input, **kwargs)\u001b[0m\n\u001b[1;32m    548\u001b[0m             \u001b[0mresult\u001b[0m \u001b[0;34m=\u001b[0m \u001b[0mself\u001b[0m\u001b[0;34m.\u001b[0m\u001b[0m_slow_forward\u001b[0m\u001b[0;34m(\u001b[0m\u001b[0;34m*\u001b[0m\u001b[0minput\u001b[0m\u001b[0;34m,\u001b[0m \u001b[0;34m**\u001b[0m\u001b[0mkwargs\u001b[0m\u001b[0;34m)\u001b[0m\u001b[0;34m\u001b[0m\u001b[0;34m\u001b[0m\u001b[0m\n\u001b[1;32m    549\u001b[0m         \u001b[0;32melse\u001b[0m\u001b[0;34m:\u001b[0m\u001b[0;34m\u001b[0m\u001b[0;34m\u001b[0m\u001b[0m\n\u001b[0;32m--> 550\u001b[0;31m             \u001b[0mresult\u001b[0m \u001b[0;34m=\u001b[0m \u001b[0mself\u001b[0m\u001b[0;34m.\u001b[0m\u001b[0mforward\u001b[0m\u001b[0;34m(\u001b[0m\u001b[0;34m*\u001b[0m\u001b[0minput\u001b[0m\u001b[0;34m,\u001b[0m \u001b[0;34m**\u001b[0m\u001b[0mkwargs\u001b[0m\u001b[0;34m)\u001b[0m\u001b[0;34m\u001b[0m\u001b[0;34m\u001b[0m\u001b[0m\n\u001b[0m\u001b[1;32m    551\u001b[0m         \u001b[0;32mfor\u001b[0m \u001b[0mhook\u001b[0m \u001b[0;32min\u001b[0m \u001b[0mself\u001b[0m\u001b[0;34m.\u001b[0m\u001b[0m_forward_hooks\u001b[0m\u001b[0;34m.\u001b[0m\u001b[0mvalues\u001b[0m\u001b[0;34m(\u001b[0m\u001b[0;34m)\u001b[0m\u001b[0;34m:\u001b[0m\u001b[0;34m\u001b[0m\u001b[0;34m\u001b[0m\u001b[0m\n\u001b[1;32m    552\u001b[0m             \u001b[0mhook_result\u001b[0m \u001b[0;34m=\u001b[0m \u001b[0mhook\u001b[0m\u001b[0;34m(\u001b[0m\u001b[0mself\u001b[0m\u001b[0;34m,\u001b[0m \u001b[0minput\u001b[0m\u001b[0;34m,\u001b[0m \u001b[0mresult\u001b[0m\u001b[0;34m)\u001b[0m\u001b[0;34m\u001b[0m\u001b[0;34m\u001b[0m\u001b[0m\n",
      "\u001b[0;32m~/repos/trajectory-prediction/model.py\u001b[0m in \u001b[0;36mforward\u001b[0;34m(self, scene)\u001b[0m\n\u001b[1;32m    207\u001b[0m     \u001b[0;32mdef\u001b[0m \u001b[0mforward\u001b[0m\u001b[0;34m(\u001b[0m\u001b[0mself\u001b[0m\u001b[0;34m,\u001b[0m \u001b[0mscene\u001b[0m\u001b[0;34m)\u001b[0m\u001b[0;34m:\u001b[0m\u001b[0;34m\u001b[0m\u001b[0;34m\u001b[0m\u001b[0m\n\u001b[1;32m    208\u001b[0m         \u001b[0minp\u001b[0m \u001b[0;34m=\u001b[0m \u001b[0mscene\u001b[0m\u001b[0;34m\u001b[0m\u001b[0;34m\u001b[0m\u001b[0m\n\u001b[0;32m--> 209\u001b[0;31m         \u001b[0membedded\u001b[0m \u001b[0;34m=\u001b[0m \u001b[0mF\u001b[0m\u001b[0;34m.\u001b[0m\u001b[0mrelu\u001b[0m\u001b[0;34m(\u001b[0m\u001b[0mself\u001b[0m\u001b[0;34m.\u001b[0m\u001b[0minp_emb\u001b[0m\u001b[0;34m(\u001b[0m\u001b[0minp\u001b[0m\u001b[0;34m)\u001b[0m\u001b[0;34m.\u001b[0m\u001b[0mreshape\u001b[0m\u001b[0;34m(\u001b[0m\u001b[0mscene\u001b[0m\u001b[0;34m.\u001b[0m\u001b[0mshape\u001b[0m\u001b[0;34m[\u001b[0m\u001b[0;36m0\u001b[0m\u001b[0;34m]\u001b[0m\u001b[0;34m,\u001b[0m \u001b[0;34m-\u001b[0m\u001b[0;36m1\u001b[0m\u001b[0;34m,\u001b[0m \u001b[0mself\u001b[0m\u001b[0;34m.\u001b[0m\u001b[0minput_dim\u001b[0m\u001b[0;34m)\u001b[0m\u001b[0;34m)\u001b[0m\u001b[0;34m\u001b[0m\u001b[0;34m\u001b[0m\u001b[0m\n\u001b[0m\u001b[1;32m    210\u001b[0m         \u001b[0;31m# scene shape = num_peds, timestamps, data_dim\u001b[0m\u001b[0;34m\u001b[0m\u001b[0;34m\u001b[0m\u001b[0;34m\u001b[0m\u001b[0m\n\u001b[1;32m    211\u001b[0m         \u001b[0mlstm_out\u001b[0m\u001b[0;34m,\u001b[0m \u001b[0m_\u001b[0m \u001b[0;34m=\u001b[0m \u001b[0mself\u001b[0m\u001b[0;34m.\u001b[0m\u001b[0mnode_future_encoder\u001b[0m\u001b[0;34m(\u001b[0m\u001b[0membedded\u001b[0m\u001b[0;34m)\u001b[0m  \u001b[0;31m# lstm_out shape num_peds, timestamps ,  2*hidden_dim\u001b[0m\u001b[0;34m\u001b[0m\u001b[0;34m\u001b[0m\u001b[0m\n",
      "\u001b[0;32m~/miniconda3/envs/pytorch_env/lib/python3.8/site-packages/torch/nn/modules/module.py\u001b[0m in \u001b[0;36m__call__\u001b[0;34m(self, *input, **kwargs)\u001b[0m\n\u001b[1;32m    548\u001b[0m             \u001b[0mresult\u001b[0m \u001b[0;34m=\u001b[0m \u001b[0mself\u001b[0m\u001b[0;34m.\u001b[0m\u001b[0m_slow_forward\u001b[0m\u001b[0;34m(\u001b[0m\u001b[0;34m*\u001b[0m\u001b[0minput\u001b[0m\u001b[0;34m,\u001b[0m \u001b[0;34m**\u001b[0m\u001b[0mkwargs\u001b[0m\u001b[0;34m)\u001b[0m\u001b[0;34m\u001b[0m\u001b[0;34m\u001b[0m\u001b[0m\n\u001b[1;32m    549\u001b[0m         \u001b[0;32melse\u001b[0m\u001b[0;34m:\u001b[0m\u001b[0;34m\u001b[0m\u001b[0;34m\u001b[0m\u001b[0m\n\u001b[0;32m--> 550\u001b[0;31m             \u001b[0mresult\u001b[0m \u001b[0;34m=\u001b[0m \u001b[0mself\u001b[0m\u001b[0;34m.\u001b[0m\u001b[0mforward\u001b[0m\u001b[0;34m(\u001b[0m\u001b[0;34m*\u001b[0m\u001b[0minput\u001b[0m\u001b[0;34m,\u001b[0m \u001b[0;34m**\u001b[0m\u001b[0mkwargs\u001b[0m\u001b[0;34m)\u001b[0m\u001b[0;34m\u001b[0m\u001b[0;34m\u001b[0m\u001b[0m\n\u001b[0m\u001b[1;32m    551\u001b[0m         \u001b[0;32mfor\u001b[0m \u001b[0mhook\u001b[0m \u001b[0;32min\u001b[0m \u001b[0mself\u001b[0m\u001b[0;34m.\u001b[0m\u001b[0m_forward_hooks\u001b[0m\u001b[0;34m.\u001b[0m\u001b[0mvalues\u001b[0m\u001b[0;34m(\u001b[0m\u001b[0;34m)\u001b[0m\u001b[0;34m:\u001b[0m\u001b[0;34m\u001b[0m\u001b[0;34m\u001b[0m\u001b[0m\n\u001b[1;32m    552\u001b[0m             \u001b[0mhook_result\u001b[0m \u001b[0;34m=\u001b[0m \u001b[0mhook\u001b[0m\u001b[0;34m(\u001b[0m\u001b[0mself\u001b[0m\u001b[0;34m,\u001b[0m \u001b[0minput\u001b[0m\u001b[0;34m,\u001b[0m \u001b[0mresult\u001b[0m\u001b[0;34m)\u001b[0m\u001b[0;34m\u001b[0m\u001b[0;34m\u001b[0m\u001b[0m\n",
      "\u001b[0;32m~/miniconda3/envs/pytorch_env/lib/python3.8/site-packages/torch/nn/modules/linear.py\u001b[0m in \u001b[0;36mforward\u001b[0;34m(self, input)\u001b[0m\n\u001b[1;32m     85\u001b[0m \u001b[0;34m\u001b[0m\u001b[0m\n\u001b[1;32m     86\u001b[0m     \u001b[0;32mdef\u001b[0m \u001b[0mforward\u001b[0m\u001b[0;34m(\u001b[0m\u001b[0mself\u001b[0m\u001b[0;34m,\u001b[0m \u001b[0minput\u001b[0m\u001b[0;34m)\u001b[0m\u001b[0;34m:\u001b[0m\u001b[0;34m\u001b[0m\u001b[0;34m\u001b[0m\u001b[0m\n\u001b[0;32m---> 87\u001b[0;31m         \u001b[0;32mreturn\u001b[0m \u001b[0mF\u001b[0m\u001b[0;34m.\u001b[0m\u001b[0mlinear\u001b[0m\u001b[0;34m(\u001b[0m\u001b[0minput\u001b[0m\u001b[0;34m,\u001b[0m \u001b[0mself\u001b[0m\u001b[0;34m.\u001b[0m\u001b[0mweight\u001b[0m\u001b[0;34m,\u001b[0m \u001b[0mself\u001b[0m\u001b[0;34m.\u001b[0m\u001b[0mbias\u001b[0m\u001b[0;34m)\u001b[0m\u001b[0;34m\u001b[0m\u001b[0;34m\u001b[0m\u001b[0m\n\u001b[0m\u001b[1;32m     88\u001b[0m \u001b[0;34m\u001b[0m\u001b[0m\n\u001b[1;32m     89\u001b[0m     \u001b[0;32mdef\u001b[0m \u001b[0mextra_repr\u001b[0m\u001b[0;34m(\u001b[0m\u001b[0mself\u001b[0m\u001b[0;34m)\u001b[0m\u001b[0;34m:\u001b[0m\u001b[0;34m\u001b[0m\u001b[0;34m\u001b[0m\u001b[0m\n",
      "\u001b[0;32m~/miniconda3/envs/pytorch_env/lib/python3.8/site-packages/torch/nn/functional.py\u001b[0m in \u001b[0;36mlinear\u001b[0;34m(input, weight, bias)\u001b[0m\n\u001b[1;32m   1610\u001b[0m         \u001b[0mret\u001b[0m \u001b[0;34m=\u001b[0m \u001b[0mtorch\u001b[0m\u001b[0;34m.\u001b[0m\u001b[0maddmm\u001b[0m\u001b[0;34m(\u001b[0m\u001b[0mbias\u001b[0m\u001b[0;34m,\u001b[0m \u001b[0minput\u001b[0m\u001b[0;34m,\u001b[0m \u001b[0mweight\u001b[0m\u001b[0;34m.\u001b[0m\u001b[0mt\u001b[0m\u001b[0;34m(\u001b[0m\u001b[0;34m)\u001b[0m\u001b[0;34m)\u001b[0m\u001b[0;34m\u001b[0m\u001b[0;34m\u001b[0m\u001b[0m\n\u001b[1;32m   1611\u001b[0m     \u001b[0;32melse\u001b[0m\u001b[0;34m:\u001b[0m\u001b[0;34m\u001b[0m\u001b[0;34m\u001b[0m\u001b[0m\n\u001b[0;32m-> 1612\u001b[0;31m         \u001b[0moutput\u001b[0m \u001b[0;34m=\u001b[0m \u001b[0minput\u001b[0m\u001b[0;34m.\u001b[0m\u001b[0mmatmul\u001b[0m\u001b[0;34m(\u001b[0m\u001b[0mweight\u001b[0m\u001b[0;34m.\u001b[0m\u001b[0mt\u001b[0m\u001b[0;34m(\u001b[0m\u001b[0;34m)\u001b[0m\u001b[0;34m)\u001b[0m\u001b[0;34m\u001b[0m\u001b[0;34m\u001b[0m\u001b[0m\n\u001b[0m\u001b[1;32m   1613\u001b[0m         \u001b[0;32mif\u001b[0m \u001b[0mbias\u001b[0m \u001b[0;32mis\u001b[0m \u001b[0;32mnot\u001b[0m \u001b[0;32mNone\u001b[0m\u001b[0;34m:\u001b[0m\u001b[0;34m\u001b[0m\u001b[0;34m\u001b[0m\u001b[0m\n\u001b[1;32m   1614\u001b[0m             \u001b[0moutput\u001b[0m \u001b[0;34m+=\u001b[0m \u001b[0mbias\u001b[0m\u001b[0;34m\u001b[0m\u001b[0;34m\u001b[0m\u001b[0m\n",
      "\u001b[0;31mRuntimeError\u001b[0m: size mismatch, m1: [6 x 8], m2: [2 x 20] at /opt/conda/conda-bld/pytorch_1587428094786/work/aten/src/THC/generic/THCTensorMathBlas.cu:283"
     ]
    }
   ],
   "source": [
    "get_ade_fde(training_generator, model, 200)"
   ]
  },
  {
   "cell_type": "code",
   "execution_count": 17,
   "metadata": {},
   "outputs": [
    {
     "data": {
      "text/plain": [
       "2.5"
      ]
     },
     "execution_count": 17,
     "metadata": {},
     "output_type": "execute_result"
    }
   ],
   "source": [
    "import math\n",
    "sum([1,2,3,4])/len([1,2,3,4])"
   ]
  },
  {
   "cell_type": "code",
   "execution_count": 3,
   "metadata": {},
   "outputs": [
    {
     "name": "stdout",
     "output_type": "stream",
     "text": [
      "tensor([[ 3.2000e+01,  1.8000e+02, -8.3340e-01, -2.1798e+00, -2.9465e-01,\n",
      "          1.3365e+00,  7.5636e-03,  5.2207e-03],\n",
      "        [ 3.2000e+01,  1.8100e+02, -9.5127e-01, -1.6452e+00, -2.8860e-01,\n",
      "          1.3407e+00,  8.1884e-02,  5.7800e-02],\n",
      "        [ 3.2000e+01,  1.8200e+02, -1.0643e+00, -1.1072e+00, -2.2914e-01,\n",
      "          1.3827e+00,  1.4141e-01,  9.9939e-02],\n",
      "        [ 3.2000e+01,  1.8300e+02, -1.1346e+00, -5.3900e-01, -1.7548e-01,\n",
      "          1.4206e+00, -2.0257e-01, -2.0957e-01],\n",
      "        [ 3.2000e+01,  1.8400e+02, -1.2047e+00,  2.9251e-02, -3.9120e-01,\n",
      "          1.2151e+00, -8.8790e-01, -4.7695e-01],\n",
      "        [ 3.2000e+01,  1.8500e+02, -1.4475e+00,  4.3306e-01, -8.8580e-01,\n",
      "          1.0391e+00, -1.0918e+00, -1.9279e-01],\n",
      "        [ 3.2000e+01,  1.8600e+02, -1.9133e+00,  8.6050e-01, -1.2646e+00,\n",
      "          1.0608e+00, -5.7516e-01, -8.5768e-03],\n",
      "        [ 3.2000e+01,  1.8700e+02, -2.4592e+00,  1.2817e+00, -1.3459e+00,\n",
      "          1.0322e+00, -8.2871e-02, -1.1336e-01],\n",
      "        [ 3.2000e+01,  1.8800e+02, -2.9900e+00,  1.6863e+00, -1.3309e+00,\n",
      "          9.7015e-01, -6.9059e-03, -3.3673e-01],\n",
      "        [ 3.2000e+01,  1.8900e+02, -3.5240e+00,  2.0579e+00, -1.3514e+00,\n",
      "          7.6282e-01, -3.9791e-02, -5.2431e-01],\n",
      "        [ 3.2000e+01,  1.9000e+02, -4.0712e+00,  2.2965e+00, -1.3628e+00,\n",
      "          5.5071e-01,  1.8745e-02, -5.5190e-01],\n",
      "        [ 3.2000e+01,  1.9100e+02, -4.6142e+00,  2.4984e+00, -1.3365e+00,\n",
      "          3.2130e-01,  5.9193e-02, -5.1610e-01],\n",
      "        [ 3.2000e+01,  1.9200e+02, -5.1404e+00,  2.5536e+00, -1.3154e+00,\n",
      "          1.3783e-01,  2.1474e-01, -3.3189e-01],\n",
      "        [ 3.2000e+01,  1.9300e+02, -5.6665e+00,  2.6087e+00, -1.1647e+00,\n",
      "          5.5787e-02,  5.0216e-01, -2.7371e-01],\n",
      "        [ 3.2000e+01,  1.9400e+02, -6.0721e+00,  2.5982e+00, -9.1368e-01,\n",
      "         -8.1144e-02,  4.3935e-01, -2.3941e-01],\n",
      "        [ 3.2000e+01,  1.9500e+02, -6.3975e+00,  2.5438e+00, -8.1318e-01,\n",
      "         -1.3574e-01,  1.2595e-01, -6.7869e-02],\n",
      "        [ 3.2000e+01,  1.9600e+02, -6.7226e+00,  2.4896e+00, -8.1292e-01,\n",
      "         -1.3544e-01,  6.5770e-04,  7.4581e-04],\n",
      "        [ 0.0000e+00,  0.0000e+00,  0.0000e+00,  0.0000e+00,  0.0000e+00,\n",
      "          0.0000e+00,  0.0000e+00,  0.0000e+00],\n",
      "        [ 0.0000e+00,  0.0000e+00,  0.0000e+00,  0.0000e+00,  0.0000e+00,\n",
      "          0.0000e+00,  0.0000e+00,  0.0000e+00],\n",
      "        [ 0.0000e+00,  0.0000e+00,  0.0000e+00,  0.0000e+00,  0.0000e+00,\n",
      "          0.0000e+00,  0.0000e+00,  0.0000e+00]])\n"
     ]
    }
   ],
   "source": [
    "for batch_id, local_batch in enumerate(training_generator):\n",
    "    if batch_id != 180:\n",
    "        continue\n",
    "    print(local_batch[0][0])"
   ]
  },
  {
   "cell_type": "code",
   "execution_count": 7,
   "metadata": {},
   "outputs": [
    {
     "data": {
      "text/plain": [
       "{'id': [0, 1], 'ade': [0.0, 0.0], 'fde': [0.0, 0.0], 'kde': [nan, nan]}"
      ]
     },
     "execution_count": 7,
     "metadata": {},
     "output_type": "execute_result"
    }
   ],
   "source": [
    "a = torch.ones(2,20,2)\n",
    "b = 1 * torch.ones(2,12,2)\n",
    "compare_prediction_gt(b,a)"
   ]
  },
  {
   "cell_type": "code",
   "execution_count": 11,
   "metadata": {},
   "outputs": [
    {
     "name": "stdout",
     "output_type": "stream",
     "text": [
      "tensor([[[0.2365],\n",
      "         [0.0697],\n",
      "         [0.8606],\n",
      "         [0.2252],\n",
      "         [0.6933],\n",
      "         [0.6357],\n",
      "         [0.9539],\n",
      "         [0.3389],\n",
      "         [0.8169],\n",
      "         [0.0401],\n",
      "         [0.3992],\n",
      "         [0.5462],\n",
      "         [0.8933],\n",
      "         [0.0872],\n",
      "         [0.7167],\n",
      "         [0.3907],\n",
      "         [0.1165],\n",
      "         [0.4998],\n",
      "         [0.9373],\n",
      "         [0.2618]]])\n",
      "tensor([[0.8169]])\n",
      "tensor([[[0.8169]]])\n"
     ]
    }
   ],
   "source": [
    "t = torch.rand(1,20,1)\n",
    "print (t)\n",
    "print (t[:,8,:])\n",
    "print (t[:,8:9,:])\n"
   ]
  }
 ],
 "metadata": {
  "kernelspec": {
   "display_name": "pytorch_env",
   "language": "python",
   "name": "pytorch_env"
  },
  "language_info": {
   "codemirror_mode": {
    "name": "ipython",
    "version": 3
   },
   "file_extension": ".py",
   "mimetype": "text/x-python",
   "name": "python",
   "nbconvert_exporter": "python",
   "pygments_lexer": "ipython3",
   "version": "3.8.3"
  }
 },
 "nbformat": 4,
 "nbformat_minor": 2
}
