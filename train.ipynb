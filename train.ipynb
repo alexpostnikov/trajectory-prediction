{
 "cells": [
  {
   "cell_type": "code",
   "execution_count": 1,
   "metadata": {},
   "outputs": [],
   "source": [
    "import torch\n",
    "import torch.nn as nn\n",
    "import torch.nn.functional as F\n",
    "import torch.optim as optim\n",
    "import numpy as np\n",
    "from dataloader import Dataset_from_pkl, is_filled\n",
    "from model import LSTMTagger, LSTM_hid, LSTM_simple, OneLayer, LSTM_single, LSTM_single_with_emb\n",
    "torch.manual_seed(1)\n",
    "from tqdm import tqdm\n",
    "\n"
   ]
  },
  {
   "cell_type": "markdown",
   "metadata": {},
   "source": [
    "## training on poses\n",
    "1.37 lstm_tag \n",
    "<br>\n",
    "1.19 lstm_hid\n",
    "<br>\n",
    "2.01   lstm_simple\n",
    "<br>\n",
    "2.1   OneLayer\n",
    "<br>\n",
    "1.8 lstm_single \n"
   ]
  },
  {
   "cell_type": "code",
   "execution_count": 2,
   "metadata": {},
   "outputs": [],
   "source": [
    "\n",
    "def get_observation_other_gt_poses(local_batch, poses=True):\n",
    "    \"\"\"\n",
    "    for each agent in scene generate obseravtion, other_pose, future_poses\n",
    "    observations -> list[tensors of shape [1,1,20,2]]]\n",
    "    others -> list[tensors of shape [1,num_others,20,2]]]\n",
    "    future_poses -> list[tensors of shape [1,1,12,2]]]\n",
    "    \"\"\"\n",
    "\n",
    "    obseravtions = []\n",
    "    gts = []\n",
    "    others = []\n",
    "    \n",
    "    for ped in range(local_batch.shape[1]):\n",
    "        observed_pose = local_batch[:, ped, :,2:4]\n",
    "        obseravtions.append(observed_pose)\n",
    "        gt_future = local_batch[:, ped:ped+1, 8:, 2:4]\n",
    "        gts.append(gt_future)\n",
    "        others_poses = torch.cat((local_batch[:, 0:ped, :, 2:4], local_batch[:, ped+1:, :,2:4]),dim=1)\n",
    "        others.append(others_poses)\n",
    "\n",
    "    return obseravtions, gts, others\n",
    "\n"
   ]
  },
  {
   "cell_type": "code",
   "execution_count": 3,
   "metadata": {},
   "outputs": [],
   "source": [
    "%matplotlib inline\n",
    "import matplotlib.pyplot as plt\n",
    "import numpy as np\n",
    "\n",
    "def plot_traj(data):\n",
    "    #data shape [n, 2]\n",
    "    x_poses = np.zeros((data.shape[0], data.shape[1]))\n",
    "    y_poses = np.zeros((data.shape[0], data.shape[1]))\n",
    "    for person in range(data.shape[0]):\n",
    "        x_poses[person]  = data[person, :, 0].numpy()\n",
    "        y_poses[person]  = data[person, :, 1].numpy()\n",
    "    \n",
    "    for person in range(data.shape[0]):\n",
    "        plt.plot(x_poses[person], y_poses[person], 'o-')\n",
    "    plt.show()"
   ]
  },
  {
   "cell_type": "code",
   "execution_count": 5,
   "metadata": {},
   "outputs": [
    {
     "name": "stdout",
     "output_type": "stream",
     "text": [
      "loading eth_train.pkl\n",
      "cuda\n"
     ]
    }
   ],
   "source": [
    "training_set = Dataset_from_pkl(\"/home/robot/repos/trajectories_pred/processed/\", data_files=[\"eth_train.pkl\"])\n",
    "training_generator = torch.utils.data.DataLoader(training_set, batch_size=1)\n",
    "\n",
    "device = torch.device(\"cuda\") if torch.cuda.is_available() else torch.device(\"cpu\")\n",
    "print (device)\n",
    "model  = LSTM_hid(10, 2, 2).to(device)\n",
    "# model  = LSTM_simple(10, 2, 2).to(device)\n",
    "# model  = OneLayer().to(device)\n",
    "\n",
    "optimizer = optim.Adam(model.parameters(), lr=0.01)\n",
    "drop_every_epochs = 5\n",
    "drop_rate = 0.4\n",
    "scheduler = torch.optim.lr_scheduler.StepLR(optimizer, drop_every_epochs, drop_rate) # every drop_every_epochs epochs drop by drop_rate lr"
   ]
  },
  {
   "cell_type": "markdown",
   "metadata": {},
   "source": [
    "### training in separated manner"
   ]
  },
  {
   "cell_type": "code",
   "execution_count": 20,
   "metadata": {},
   "outputs": [
    {
     "name": "stdout",
     "output_type": "stream",
     "text": [
      "epoch 0 loss 2.9210, time taken 21.61\n",
      "epoch 1 loss 2.1632, time taken 21.43\n",
      "epoch 2 loss 2.0651, time taken 21.44\n",
      "epoch 3 loss 1.9566, time taken 22.36\n",
      "epoch 4 loss 1.8558, time taken 22.20\n",
      "epoch 5 loss 1.7734, time taken 21.67\n",
      "epoch 6 loss 1.7020, time taken 22.72\n",
      "epoch 7 loss 1.6016, time taken 21.44\n",
      "epoch 8 loss 1.5318, time taken 21.40\n",
      "epoch 9 loss 1.4428, time taken 21.39\n",
      "epoch 10 loss 1.4866, time taken 21.40\n",
      "epoch 11 loss 1.4427, time taken 21.49\n",
      "epoch 12 loss 1.4014, time taken 21.43\n",
      "epoch 13 loss 1.3817, time taken 21.58\n",
      "epoch 14 loss 1.3678, time taken 21.60\n",
      "epoch 15 loss 1.3693, time taken 21.61\n",
      "epoch 16 loss 1.3514, time taken 21.81\n",
      "epoch 17 loss 1.3397, time taken 21.53\n",
      "epoch 18 loss 1.3302, time taken 21.44\n",
      "epoch 19 loss 1.3227, time taken 21.52\n",
      "epoch 20 loss 1.3254, time taken 21.50\n",
      "epoch 21 loss 1.3185, time taken 21.62\n",
      "epoch 22 loss 1.3150, time taken 21.75\n",
      "epoch 23 loss 1.3103, time taken 22.34\n",
      "epoch 24 loss 1.3084, time taken 22.44\n",
      "epoch 25 loss 1.3075, time taken 22.05\n",
      "epoch 26 loss 1.3064, time taken 22.42\n",
      "epoch 27 loss 1.3010, time taken 21.32\n",
      "epoch 28 loss 1.2980, time taken 21.46\n",
      "epoch 29 loss 1.2964, time taken 22.54\n",
      "epoch 30 loss 1.2953, time taken 21.59\n",
      "epoch 31 loss 1.2941, time taken 22.17\n",
      "epoch 32 loss 1.2928, time taken 21.63\n",
      "epoch 33 loss 1.2921, time taken 21.67\n",
      "epoch 34 loss 1.2916, time taken 21.60\n",
      "epoch 35 loss 1.2907, time taken 21.54\n",
      "epoch 36 loss 1.2903, time taken 22.57\n",
      "epoch 37 loss 1.2900, time taken 23.37\n",
      "epoch 38 loss 1.2898, time taken 21.59\n",
      "epoch 39 loss 1.2895, time taken 21.81\n",
      "epoch 40 loss 1.2891, time taken 21.32\n",
      "epoch 41 loss 1.2890, time taken 21.45\n",
      "epoch 42 loss 1.2889, time taken 21.39\n",
      "epoch 43 loss 1.2888, time taken 21.64\n",
      "epoch 44 loss 1.2887, time taken 21.78\n",
      "epoch 45 loss 1.2885, time taken 21.65\n",
      "epoch 46 loss 1.2885, time taken 21.51\n",
      "epoch 47 loss 1.2885, time taken 21.51\n",
      "epoch 48 loss 1.2884, time taken 21.54\n",
      "epoch 49 loss 1.2884, time taken 21.47\n",
      "epoch 50 loss 1.2883, time taken 21.43\n",
      "epoch 51 loss 1.2883, time taken 21.39\n",
      "epoch 52 loss 1.2883, time taken 21.41\n",
      "epoch 53 loss 1.2883, time taken 21.39\n",
      "epoch 54 loss 1.2882, time taken 21.42\n",
      "epoch 55 loss 1.2882, time taken 21.41\n",
      "epoch 56 loss 1.2882, time taken 21.56\n",
      "epoch 57 loss 1.2882, time taken 21.49\n",
      "epoch 58 loss 1.2882, time taken 21.51\n",
      "epoch 59 loss 1.2882, time taken 21.53\n",
      "epoch 60 loss 1.2882, time taken 21.54\n"
     ]
    }
   ],
   "source": [
    "import time\n",
    "\n",
    "for epoch in range(0,61):\n",
    "    epoch_loss = 0\n",
    "    start = time.time()\n",
    "    for batch_id, local_batch in enumerate(training_generator):\n",
    "        if batch_id>100:\n",
    "            break\n",
    "        obseravtions, gts, others = get_observation_other_gt_poses(local_batch.to(device))\n",
    "        batch_loss = 0\n",
    "        for observation, gt, other in zip(obseravtions, gts, others):\n",
    "            model.zero_grad()\n",
    "            fil = is_filled(observation)\n",
    "            if fil:\n",
    "                predictions = torch.zeros(1, 1, 0, 2).requires_grad_(True).to(device)\n",
    "                for timestamp in range(0, 12):\n",
    "                    \n",
    "                    prediction = model(observation[:, 0+timestamp:8+timestamp, :], other[:, :, 0+timestamp:8+timestamp, :])\n",
    "                    predictions = torch.cat((predictions, prediction.unsqueeze(0)), dim=2)\n",
    "\n",
    "                loss = torch.sum(torch.norm(predictions - gt))\n",
    "                batch_loss += loss.item()\n",
    "                loss.backward()\n",
    "                optimizer.step()\n",
    "        if len(obseravtions) != 0:\n",
    "#             print(\"\\tid: {id}, batch_loss: {batch_loss:.2f}\".format(batch_loss=batch_loss/len(obseravtions), id=id))\n",
    "            epoch_loss += batch_loss/len(obseravtions)\n",
    "        \n",
    "    print (\"epoch {epoch} loss {el:0.4f}, time taken {t:0.2f}\".format(epoch=epoch, el=epoch_loss/batch_id,t=time.time()-start) )\n",
    "    scheduler.step()\n"
   ]
  },
  {
   "cell_type": "markdown",
   "metadata": {},
   "source": [
    "## Parallel manner"
   ]
  },
  {
   "cell_type": "markdown",
   "metadata": {},
   "source": [
    "###  single - 1.83\n",
    "###  single with emb- 1.94"
   ]
  },
  {
   "cell_type": "code",
   "execution_count": 2,
   "metadata": {},
   "outputs": [
    {
     "name": "stdout",
     "output_type": "stream",
     "text": [
      "loading eth_train.pkl\n",
      "cuda\n"
     ]
    }
   ],
   "source": [
    "training_set = Dataset_from_pkl(\"/home/robot/repos/trajectories_pred/processed/\", data_files=[\"eth_train.pkl\"])\n",
    "training_generator = torch.utils.data.DataLoader(training_set, batch_size=1)\n",
    "\n",
    "device = torch.device(\"cuda\") if torch.cuda.is_available() else torch.device(\"cpu\")\n",
    "print (device)\n",
    "# model  = LSTM_single(20, 2, 2).to(device)\n",
    "# model  = LSTM_simple(10, 2, 2).to(device)\n",
    "# model  = OneLayer().to(device)\n",
    "model = LSTM_single_with_emb(40, 20, 2).to(device)\n",
    "\n",
    "optimizer = optim.Adam(model.parameters(), lr=0.01)\n",
    "drop_every_epochs = 5\n",
    "drop_rate = 0.4\n",
    "scheduler = torch.optim.lr_scheduler.StepLR(optimizer, drop_every_epochs, drop_rate) # every drop_every_epochs epochs drop by drop_rate lr"
   ]
  },
  {
   "cell_type": "code",
   "execution_count": 3,
   "metadata": {},
   "outputs": [
    {
     "name": "stdout",
     "output_type": "stream",
     "text": [
      "epoch 0 loss 4.3846, time taken 1.90\n",
      "epoch 1 loss 3.7220, time taken 1.95\n",
      "epoch 2 loss 3.6520, time taken 1.90\n",
      "epoch 3 loss 3.6089, time taken 1.95\n",
      "epoch 4 loss 3.8409, time taken 1.91\n",
      "epoch 5 loss 3.8633, time taken 1.99\n",
      "epoch 6 loss 4.0251, time taken 1.89\n",
      "epoch 7 loss 3.8558, time taken 1.88\n",
      "epoch 8 loss 3.8689, time taken 1.90\n",
      "epoch 9 loss 3.7131, time taken 1.97\n",
      "epoch 10 loss 3.6113, time taken 1.93\n",
      "epoch 11 loss 3.5277, time taken 1.99\n",
      "epoch 12 loss 3.4830, time taken 1.90\n",
      "epoch 13 loss 3.4018, time taken 1.87\n",
      "epoch 14 loss 3.3956, time taken 1.89\n",
      "epoch 15 loss 3.3342, time taken 1.90\n",
      "epoch 16 loss 3.3024, time taken 1.91\n",
      "epoch 17 loss 3.2884, time taken 1.90\n",
      "epoch 18 loss 3.2768, time taken 1.89\n",
      "epoch 19 loss 3.2633, time taken 1.90\n",
      "epoch 20 loss 3.2383, time taken 1.91\n",
      "epoch 21 loss 3.2269, time taken 1.90\n",
      "epoch 22 loss 3.2206, time taken 1.89\n",
      "epoch 23 loss 3.2154, time taken 1.89\n",
      "epoch 24 loss 3.2107, time taken 1.90\n",
      "epoch 25 loss 3.1994, time taken 1.92\n",
      "epoch 26 loss 3.1966, time taken 1.88\n",
      "epoch 27 loss 3.1945, time taken 1.89\n",
      "epoch 28 loss 3.1927, time taken 1.89\n",
      "epoch 29 loss 3.1908, time taken 1.91\n",
      "epoch 30 loss 3.1865, time taken 1.91\n",
      "epoch 31 loss 3.1856, time taken 1.87\n",
      "epoch 32 loss 3.1848, time taken 1.86\n",
      "epoch 33 loss 3.1840, time taken 1.91\n",
      "epoch 34 loss 3.1833, time taken 1.90\n",
      "epoch 35 loss 3.1815, time taken 1.91\n",
      "epoch 36 loss 3.1811, time taken 1.90\n",
      "epoch 37 loss 3.1808, time taken 1.89\n",
      "epoch 38 loss 3.1805, time taken 1.92\n",
      "epoch 39 loss 3.1803, time taken 2.02\n",
      "epoch 40 loss 3.1795, time taken 2.06\n",
      "epoch 41 loss 3.1794, time taken 1.92\n",
      "epoch 42 loss 3.1793, time taken 2.02\n",
      "epoch 43 loss 3.1791, time taken 2.01\n",
      "epoch 44 loss 3.1790, time taken 1.95\n",
      "epoch 45 loss 3.1787, time taken 1.91\n",
      "epoch 46 loss 3.1787, time taken 1.86\n",
      "epoch 47 loss 3.1786, time taken 1.95\n",
      "epoch 48 loss 3.1786, time taken 1.89\n",
      "epoch 49 loss 3.1785, time taken 1.88\n",
      "epoch 50 loss 3.1784, time taken 2.12\n",
      "epoch 51 loss 3.1784, time taken 2.23\n",
      "epoch 52 loss 3.1783, time taken 2.17\n",
      "epoch 53 loss 3.1783, time taken 2.35\n",
      "epoch 54 loss 3.1783, time taken 2.19\n",
      "epoch 55 loss 3.1783, time taken 2.47\n",
      "epoch 56 loss 3.1782, time taken 2.12\n",
      "epoch 57 loss 3.1782, time taken 1.97\n",
      "epoch 58 loss 3.1782, time taken 2.01\n",
      "epoch 59 loss 3.1782, time taken 1.89\n",
      "epoch 60 loss 3.1782, time taken 1.89\n"
     ]
    }
   ],
   "source": [
    "import time\n",
    "\n",
    "for epoch in range(0,61):\n",
    "    epoch_loss = 0\n",
    "    start = time.time()\n",
    "    epoch_loss = 0\n",
    "    for batch_id, local_batch in enumerate(training_generator):\n",
    "        if batch_id>100:\n",
    "            break\n",
    "        local_batch = local_batch.to(device)\n",
    "        model.zero_grad()\n",
    "        num_peds = local_batch.shape[1]\n",
    "        predictions = torch.zeros(num_peds, 0, 2).requires_grad_(True).to(device)\n",
    "        for t in range(0,12):\n",
    "            prediction = model(local_batch[0,:,0+t:8+t,2:4])\n",
    "            predictions = torch.cat((predictions, prediction), dim=1)\n",
    "        \n",
    "        loss  = torch.sum(torch.norm(predictions - local_batch[0,:,8:,2:4]))\n",
    "        epoch_loss += loss.item()/num_peds\n",
    "        loss.backward()\n",
    "        optimizer.step()\n",
    "    print (\"epoch {epoch} loss {el:0.4f}, time taken {t:0.2f}\".format(epoch=epoch, el=epoch_loss/batch_id,t=time.time()-start) )\n",
    "    scheduler.step()"
   ]
  },
  {
   "cell_type": "code",
   "execution_count": 56,
   "metadata": {},
   "outputs": [
    {
     "data": {
      "image/png": "[encoded data removed]",
      "text/plain": [
       "<Figure size 432x288 with 1 Axes>"
      ]
     },
     "metadata": {
      "needs_background": "light"
     },
     "output_type": "display_data"
    },
    {
     "data": {
      "image/png": "[encoded data removed]",
      "text/plain": [
       "<Figure size 432x288 with 1 Axes>"
      ]
     },
     "metadata": {
      "needs_background": "light"
     },
     "output_type": "display_data"
    }
   ],
   "source": [
    "for batch_id, local_batch in enumerate(training_generator):\n",
    "    if batch_id != 460:\n",
    "        continue\n",
    "    obseravtions, gts, others = get_observation_other_gt_poses(local_batch.to(device))\n",
    "    for observation, gt, other in zip(obseravtions, gts, others):\n",
    "        predictions = torch.zeros(1, 1, 0, 2).requires_grad_(True).to(device)\n",
    "        for timestamp in range(0, 12):\n",
    "            prediction = model(observation[:, 0+timestamp:8+timestamp, :].clone(), other[:, :, 0+timestamp:8+timestamp, :].clone())\n",
    "            predictions = torch.cat((predictions, prediction.unsqueeze(0)), dim=2)\n",
    "        break\n",
    "    break\n",
    "pass\n",
    "\n",
    "\n",
    "data = obseravtions[0][:,:,:].detach().cpu()\n",
    "\n",
    "\n",
    "plot_traj(data)\n",
    "data = obseravtions[0][:,0:8,:].detach().cpu()\n",
    "\n",
    "data = torch.cat((data, predictions[0].detach().cpu()), dim=1)\n",
    "plot_traj(data)\n"
   ]
  },
  {
   "cell_type": "code",
   "execution_count": 20,
   "metadata": {},
   "outputs": [
    {
     "name": "stdout",
     "output_type": "stream",
     "text": [
      "torch.Size([1, 6, 20, 8]) torch.Size([1, 3, 20, 8])\n"
     ]
    },
    {
     "data": {
      "text/plain": [
       "torch.Size([1, 9, 20, 8])"
      ]
     },
     "execution_count": 20,
     "metadata": {},
     "output_type": "execute_result"
    }
   ],
   "source": [
    "t = torch.rand(1,10,20,8)\n",
    "ind = 6\n",
    "t1 = t[:,0:ind,:,:]\n",
    "t2 = t[:,ind+1:,:,:]\n",
    "print (t1.shape, t2.shape)\n",
    "torch.cat((t1,t2),dim=1).shape\n"
   ]
  },
  {
   "cell_type": "code",
   "execution_count": null,
   "metadata": {},
   "outputs": [],
   "source": []
  }
 ],
 "metadata": {
  "kernelspec": {
   "display_name": "pytorch_env",
   "language": "python",
   "name": "pytorch_env"
  },
  "language_info": {
   "codemirror_mode": {
    "name": "ipython",
    "version": 3
   },
   "file_extension": ".py",
   "mimetype": "text/x-python",
   "name": "python",
   "nbconvert_exporter": "python",
   "pygments_lexer": "ipython3",
   "version": "3.8.3"
  }
 },
 "nbformat": 4,
 "nbformat_minor": 2
}
